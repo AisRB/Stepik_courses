{
 "cells": [
  {
   "cell_type": "markdown",
   "metadata": {},
   "source": [
    "# 4  Pandas: работа с источниками данных"
   ]
  },
  {
   "cell_type": "markdown",
   "metadata": {},
   "source": [
    "## 4.1 Что такое формат CSV и как его приручить?"
   ]
  },
  {
   "cell_type": "code",
   "execution_count": 12,
   "metadata": {},
   "outputs": [],
   "source": [
    "import pandas as pd\n",
    "import numpy as np"
   ]
  },
  {
   "cell_type": "code",
   "execution_count": 14,
   "metadata": {},
   "outputs": [],
   "source": [
    "from pandas.core.computation.check import NUMEXPR_INSTALLED"
   ]
  },
  {
   "cell_type": "markdown",
   "metadata": {},
   "source": [
    "**.csv - comma separated values**"
   ]
  },
  {
   "cell_type": "markdown",
   "metadata": {},
   "source": [
    "Способы открытия файла:"
   ]
  },
  {
   "cell_type": "code",
   "execution_count": 17,
   "metadata": {},
   "outputs": [],
   "source": [
    "df = pd.read_csv('E:\\\\Education\\\\tinkoff_course\\\\python\\\\bonus.csv', sep = ';')"
   ]
  },
  {
   "cell_type": "code",
   "execution_count": 18,
   "metadata": {},
   "outputs": [],
   "source": [
    "df = pd.read_csv('E:/Education/tinkoff_course/python/bonus.csv', sep = ';')"
   ]
  },
  {
   "cell_type": "code",
   "execution_count": 19,
   "metadata": {},
   "outputs": [],
   "source": [
    "df = pd.read_csv(r'E:\\Education\\tinkoff_course\\python\\bonus.csv', sep = ';')"
   ]
  },
  {
   "cell_type": "markdown",
   "metadata": {},
   "source": [
    "**pd.read_csv(**\n",
    "\n",
    "    filepath_or_buffer - путь,\n",
    "    sep=',', - разделитель\n",
    "    delimiter=None, - ??\n",
    "    header='infer', - Заголовок, если нет, то указываем None\n",
    "    names=None, - список из заголовков\n",
    "    index_col=' ' - Выбираем индексы из колонки\n",
    "    и.т.\n",
    ")"
   ]
  },
  {
   "cell_type": "markdown",
   "metadata": {},
   "source": [
    "**Еще несколько полезных параметров функции read_csv:**\n",
    "\n",
    "`dtype` - тип данных в колонках\n",
    "\n",
    "`usecols` - ограничить импорт выбранными колонками\n",
    "\n",
    "`nrows` - количество строк для импорта\n",
    "\n",
    "`encoding` - кодовая страница читаемого файла\n",
    "\n",
    "`decimal` - символ десятичной точки\n",
    "\n",
    "`thousonds` - символ разделителя тысяч\n",
    "\n",
    "`skipinitialspace` - пропускать пробелы после разделителя"
   ]
  },
  {
   "cell_type": "markdown",
   "metadata": {},
   "source": [
    "### Задача"
   ]
  },
  {
   "cell_type": "markdown",
   "metadata": {},
   "source": [
    "⭐ **Определите название станции, на которой было наибольшее количество входов за 4 квартал 2021 года**"
   ]
  },
  {
   "cell_type": "code",
   "execution_count": 21,
   "metadata": {},
   "outputs": [],
   "source": [
    "#df = pd.read_csv(r'E:\\Education\\data\\Пассажиропоток_МосМетро_2.csv', sep = ';', header=1)"
   ]
  },
  {
   "cell_type": "code",
   "execution_count": 22,
   "metadata": {},
   "outputs": [],
   "source": [
    "df = pd.read_csv(r'E:\\Education\\data\\Пассажиропоток_МосМетро_2.csv', sep=';', skiprows=[1])"
   ]
  },
  {
   "cell_type": "code",
   "execution_count": 23,
   "metadata": {},
   "outputs": [
    {
     "data": {
      "text/html": [
       "<div>\n",
       "<style scoped>\n",
       "    .dataframe tbody tr th:only-of-type {\n",
       "        vertical-align: middle;\n",
       "    }\n",
       "\n",
       "    .dataframe tbody tr th {\n",
       "        vertical-align: top;\n",
       "    }\n",
       "\n",
       "    .dataframe thead th {\n",
       "        text-align: right;\n",
       "    }\n",
       "</style>\n",
       "<table border=\"1\" class=\"dataframe\">\n",
       "  <thead>\n",
       "    <tr style=\"text-align: right;\">\n",
       "      <th></th>\n",
       "      <th>NameOfStation</th>\n",
       "      <th>IncomingPassengers</th>\n",
       "    </tr>\n",
       "  </thead>\n",
       "  <tbody>\n",
       "    <tr>\n",
       "      <th>74</th>\n",
       "      <td>Комсомольская</td>\n",
       "      <td>10105141</td>\n",
       "    </tr>\n",
       "  </tbody>\n",
       "</table>\n",
       "</div>"
      ],
      "text/plain": [
       "    NameOfStation  IncomingPassengers\n",
       "74  Комсомольская            10105141"
      ]
     },
     "execution_count": 23,
     "metadata": {},
     "output_type": "execute_result"
    }
   ],
   "source": [
    "df[(df['Year'] == 2021) & (df['Quarter'] == 'IV квартал')]\\\n",
    "    .groupby(['NameOfStation'], as_index = False)\\\n",
    "    .agg({'IncomingPassengers':'sum'})\\\n",
    "    .sort_values(by= 'IncomingPassengers', ascending=False)\\\n",
    "    .head(1)"
   ]
  },
  {
   "cell_type": "code",
   "execution_count": 24,
   "metadata": {},
   "outputs": [
    {
     "data": {
      "text/html": [
       "<div>\n",
       "<style scoped>\n",
       "    .dataframe tbody tr th:only-of-type {\n",
       "        vertical-align: middle;\n",
       "    }\n",
       "\n",
       "    .dataframe tbody tr th {\n",
       "        vertical-align: top;\n",
       "    }\n",
       "\n",
       "    .dataframe thead th {\n",
       "        text-align: right;\n",
       "    }\n",
       "</style>\n",
       "<table border=\"1\" class=\"dataframe\">\n",
       "  <thead>\n",
       "    <tr style=\"text-align: right;\">\n",
       "      <th></th>\n",
       "      <th>NameOfStation</th>\n",
       "      <th>IncomingPassengers</th>\n",
       "    </tr>\n",
       "  </thead>\n",
       "  <tbody>\n",
       "    <tr>\n",
       "      <th>956</th>\n",
       "      <td>Комсомольская</td>\n",
       "      <td>7660212</td>\n",
       "    </tr>\n",
       "  </tbody>\n",
       "</table>\n",
       "</div>"
      ],
      "text/plain": [
       "     NameOfStation  IncomingPassengers\n",
       "956  Комсомольская             7660212"
      ]
     },
     "execution_count": 24,
     "metadata": {},
     "output_type": "execute_result"
    }
   ],
   "source": [
    "df[(df['Year'] == 2021) & (df['Quarter'] == 'IV квартал')][['NameOfStation','IncomingPassengers']]\\\n",
    "    .sort_values(by = 'IncomingPassengers', ascending=False)\\\n",
    "    .head(1)"
   ]
  },
  {
   "cell_type": "code",
   "execution_count": 25,
   "metadata": {},
   "outputs": [
    {
     "data": {
      "text/html": [
       "<div>\n",
       "<style scoped>\n",
       "    .dataframe tbody tr th:only-of-type {\n",
       "        vertical-align: middle;\n",
       "    }\n",
       "\n",
       "    .dataframe tbody tr th {\n",
       "        vertical-align: top;\n",
       "    }\n",
       "\n",
       "    .dataframe thead th {\n",
       "        text-align: right;\n",
       "    }\n",
       "</style>\n",
       "<table border=\"1\" class=\"dataframe\">\n",
       "  <thead>\n",
       "    <tr style=\"text-align: right;\">\n",
       "      <th></th>\n",
       "      <th>NameOfStation</th>\n",
       "      <th>IncomingPassengers</th>\n",
       "    </tr>\n",
       "  </thead>\n",
       "  <tbody>\n",
       "    <tr>\n",
       "      <th>956</th>\n",
       "      <td>Комсомольская</td>\n",
       "      <td>7660212</td>\n",
       "    </tr>\n",
       "  </tbody>\n",
       "</table>\n",
       "</div>"
      ],
      "text/plain": [
       "     NameOfStation  IncomingPassengers\n",
       "956  Комсомольская             7660212"
      ]
     },
     "execution_count": 25,
     "metadata": {},
     "output_type": "execute_result"
    }
   ],
   "source": [
    "df.loc[(df['Year'] == 2021) & (df['Quarter'] == 'IV квартал'), ['NameOfStation', 'IncomingPassengers']]\\\n",
    "    .sort_values(by='IncomingPassengers', ascending=False)\\\n",
    "    .head(1)"
   ]
  },
  {
   "cell_type": "markdown",
   "metadata": {},
   "source": [
    "## 4.2 Поподробнее про обработку пропусков"
   ]
  },
  {
   "cell_type": "markdown",
   "metadata": {},
   "source": [
    "`skiprows` = range(1, 4) - диапозон строк, которых нужно пропустить"
   ]
  },
  {
   "cell_type": "markdown",
   "metadata": {},
   "source": [
    "Если вы встретите CSV файл, где разделителем будет TAB (\\t), то такой файл можно прочитать в датафрейм несколькими способами:\n",
    "\n",
    "    1) `read_csv('example.csv', sep='\\t')`  т.к. по умолчанию сепаратор у `read_csv` запятая, поэтому мы задаем другой разделитель\n",
    "\n",
    "    2) воспользоваться функцией `read_table`. Это тоже что и read_csv, но разделитель по умолчанию `'\\t'`"
   ]
  },
  {
   "cell_type": "markdown",
   "metadata": {},
   "source": [
    "Если NA реальное значение (а не пропуск), тогда можно поступить несколькими способами:\n",
    "\n",
    "    1) Если ты уверен, что у тебя в данных нет пропусков, то можно задать na_filter=False и тогда пандас на этапе чтения не будет проверять значения и конвертировать в пропуск. \n",
    "\n",
    "    2) Отключить стандартный список пропусков через параметр keep_default_na = False, а затем задать свой список пропусков через параметр na_values=[‘#N/A’, ‘#N/A N/A’,  .....]"
   ]
  },
  {
   "cell_type": "markdown",
   "metadata": {},
   "source": [
    "skiprows = 1 удаляет одну строку сверху, а skiprows=[1] удаляет вторую строку (которая под номером 1)"
   ]
  },
  {
   "cell_type": "code",
   "execution_count": 27,
   "metadata": {},
   "outputs": [
    {
     "data": {
      "text/html": [
       "<div>\n",
       "<style scoped>\n",
       "    .dataframe tbody tr th:only-of-type {\n",
       "        vertical-align: middle;\n",
       "    }\n",
       "\n",
       "    .dataframe tbody tr th {\n",
       "        vertical-align: top;\n",
       "    }\n",
       "\n",
       "    .dataframe thead th {\n",
       "        text-align: right;\n",
       "    }\n",
       "</style>\n",
       "<table border=\"1\" class=\"dataframe\">\n",
       "  <thead>\n",
       "    <tr style=\"text-align: right;\">\n",
       "      <th></th>\n",
       "      <th>person_id</th>\n",
       "      <th>bonus</th>\n",
       "    </tr>\n",
       "  </thead>\n",
       "  <tbody>\n",
       "    <tr>\n",
       "      <th>0</th>\n",
       "      <td>905</td>\n",
       "      <td>85059.638382</td>\n",
       "    </tr>\n",
       "    <tr>\n",
       "      <th>1</th>\n",
       "      <td>836</td>\n",
       "      <td>7703.346074</td>\n",
       "    </tr>\n",
       "    <tr>\n",
       "      <th>2</th>\n",
       "      <td>287</td>\n",
       "      <td>3120.269742</td>\n",
       "    </tr>\n",
       "    <tr>\n",
       "      <th>3</th>\n",
       "      <td>548</td>\n",
       "      <td>5347.987142</td>\n",
       "    </tr>\n",
       "    <tr>\n",
       "      <th>4</th>\n",
       "      <td>575</td>\n",
       "      <td>137257.490614</td>\n",
       "    </tr>\n",
       "  </tbody>\n",
       "</table>\n",
       "</div>"
      ],
      "text/plain": [
       "   person_id          bonus\n",
       "0        905   85059.638382\n",
       "1        836    7703.346074\n",
       "2        287    3120.269742\n",
       "3        548    5347.987142\n",
       "4        575  137257.490614"
      ]
     },
     "execution_count": 27,
     "metadata": {},
     "output_type": "execute_result"
    }
   ],
   "source": [
    "#nrows - чтение только первых n строк, не считая заголовка\n",
    "pd.read_csv('E:\\\\Education\\\\tinkoff_course\\\\python\\\\bonus.csv', sep = ';', nrows = 5 )"
   ]
  },
  {
   "cell_type": "markdown",
   "metadata": {},
   "source": [
    "### Задача"
   ]
  },
  {
   "cell_type": "markdown",
   "metadata": {},
   "source": [
    "⭐**Определите сколько всего было входов по всем станциям за всё время (сумма по столбцу IncomingPassengers)**"
   ]
  },
  {
   "cell_type": "code",
   "execution_count": 29,
   "metadata": {},
   "outputs": [],
   "source": [
    "df2 = pd.read_csv(r'E:\\Education\\data\\Пассажиропоток_МосМетро_3.csv', sep='|', header = 4, skiprows = [5, 6, 1380])"
   ]
  },
  {
   "cell_type": "code",
   "execution_count": 30,
   "metadata": {},
   "outputs": [
    {
     "data": {
      "text/plain": [
       "2514195123.0"
      ]
     },
     "execution_count": 30,
     "metadata": {},
     "output_type": "execute_result"
    }
   ],
   "source": [
    "df2['IncomingPassengers'].fillna(0).sum()"
   ]
  },
  {
   "cell_type": "markdown",
   "metadata": {},
   "source": [
    "⭐**В столбце IncomingPassengers присутствуют пропущенные значения: 0, NULL, None, не указано. В ответе укажите число строк в которых пропущено значение в столбце IncomingPassengers**"
   ]
  },
  {
   "cell_type": "code",
   "execution_count": 31,
   "metadata": {},
   "outputs": [],
   "source": [
    "df3 = pd.read_csv(r'E:\\Education\\data\\Пассажиропоток_МосМетро_4.csv', sep = '|', \n",
    "                  skiprows = [1], na_values = {'IncomingPassengers' : [0, 'NULL', 'None', 'не указано']})"
   ]
  },
  {
   "cell_type": "code",
   "execution_count": 32,
   "metadata": {},
   "outputs": [
    {
     "data": {
      "text/plain": [
       "False    1335\n",
       "True       37\n",
       "Name: IncomingPassengers, dtype: int64"
      ]
     },
     "execution_count": 32,
     "metadata": {},
     "output_type": "execute_result"
    }
   ],
   "source": [
    "#1\n",
    "df3.IncomingPassengers.isnull().value_counts()"
   ]
  },
  {
   "cell_type": "code",
   "execution_count": 33,
   "metadata": {},
   "outputs": [
    {
     "data": {
      "text/plain": [
       "37"
      ]
     },
     "execution_count": 33,
     "metadata": {},
     "output_type": "execute_result"
    }
   ],
   "source": [
    "#2\n",
    "df3['IncomingPassengers'].isna().sum()"
   ]
  },
  {
   "cell_type": "markdown",
   "metadata": {},
   "source": [
    "## 4.3 Учимся читать большие файлы кусочками"
   ]
  },
  {
   "cell_type": "code",
   "execution_count": 35,
   "metadata": {},
   "outputs": [
    {
     "data": {
      "text/html": [
       "<div>\n",
       "<style scoped>\n",
       "    .dataframe tbody tr th:only-of-type {\n",
       "        vertical-align: middle;\n",
       "    }\n",
       "\n",
       "    .dataframe tbody tr th {\n",
       "        vertical-align: top;\n",
       "    }\n",
       "\n",
       "    .dataframe thead th {\n",
       "        text-align: right;\n",
       "    }\n",
       "</style>\n",
       "<table border=\"1\" class=\"dataframe\">\n",
       "  <thead>\n",
       "    <tr style=\"text-align: right;\">\n",
       "      <th></th>\n",
       "      <th>NameOfStation</th>\n",
       "      <th>Line</th>\n",
       "      <th>Year</th>\n",
       "      <th>Quarter</th>\n",
       "      <th>IncomingPassengers</th>\n",
       "      <th>OutgoingPassengers</th>\n",
       "      <th>global_id</th>\n",
       "      <th>NameOfStation_en</th>\n",
       "      <th>Line_en</th>\n",
       "      <th>Year_en</th>\n",
       "      <th>Quarter_en</th>\n",
       "      <th>IncomingPassengers_en</th>\n",
       "      <th>OutgoingPassengers_en</th>\n",
       "      <th>Unnamed: 13</th>\n",
       "    </tr>\n",
       "  </thead>\n",
       "  <tbody>\n",
       "    <tr>\n",
       "      <th>0</th>\n",
       "      <td>Митино</td>\n",
       "      <td>Арбатско-Покровская линия</td>\n",
       "      <td>2021</td>\n",
       "      <td>I квартал</td>\n",
       "      <td>1913498</td>\n",
       "      <td>1829031</td>\n",
       "      <td>1138975996</td>\n",
       "      <td>NaN</td>\n",
       "      <td>NaN</td>\n",
       "      <td>NaN</td>\n",
       "      <td>NaN</td>\n",
       "      <td>NaN</td>\n",
       "      <td>NaN</td>\n",
       "      <td>NaN</td>\n",
       "    </tr>\n",
       "    <tr>\n",
       "      <th>1</th>\n",
       "      <td>Волоколамская</td>\n",
       "      <td>Арбатско-Покровская линия</td>\n",
       "      <td>2021</td>\n",
       "      <td>I квартал</td>\n",
       "      <td>1236714</td>\n",
       "      <td>1222309</td>\n",
       "      <td>1138975997</td>\n",
       "      <td>NaN</td>\n",
       "      <td>NaN</td>\n",
       "      <td>NaN</td>\n",
       "      <td>NaN</td>\n",
       "      <td>NaN</td>\n",
       "      <td>NaN</td>\n",
       "      <td>NaN</td>\n",
       "    </tr>\n",
       "    <tr>\n",
       "      <th>2</th>\n",
       "      <td>Строгино</td>\n",
       "      <td>Арбатско-Покровская линия</td>\n",
       "      <td>2021</td>\n",
       "      <td>I квартал</td>\n",
       "      <td>1938816</td>\n",
       "      <td>1903731</td>\n",
       "      <td>1138975999</td>\n",
       "      <td>NaN</td>\n",
       "      <td>NaN</td>\n",
       "      <td>NaN</td>\n",
       "      <td>NaN</td>\n",
       "      <td>NaN</td>\n",
       "      <td>NaN</td>\n",
       "      <td>NaN</td>\n",
       "    </tr>\n",
       "    <tr>\n",
       "      <th>3</th>\n",
       "      <td>Крылатское</td>\n",
       "      <td>Арбатско-Покровская линия</td>\n",
       "      <td>2021</td>\n",
       "      <td>I квартал</td>\n",
       "      <td>1849616</td>\n",
       "      <td>1818208</td>\n",
       "      <td>1138976000</td>\n",
       "      <td>NaN</td>\n",
       "      <td>NaN</td>\n",
       "      <td>NaN</td>\n",
       "      <td>NaN</td>\n",
       "      <td>NaN</td>\n",
       "      <td>NaN</td>\n",
       "      <td>NaN</td>\n",
       "    </tr>\n",
       "    <tr>\n",
       "      <th>4</th>\n",
       "      <td>Площадь Революции</td>\n",
       "      <td>Арбатско-Покровская линия</td>\n",
       "      <td>2021</td>\n",
       "      <td>I квартал</td>\n",
       "      <td>2324687</td>\n",
       "      <td>2319343</td>\n",
       "      <td>1138976008</td>\n",
       "      <td>NaN</td>\n",
       "      <td>NaN</td>\n",
       "      <td>NaN</td>\n",
       "      <td>NaN</td>\n",
       "      <td>NaN</td>\n",
       "      <td>NaN</td>\n",
       "      <td>NaN</td>\n",
       "    </tr>\n",
       "    <tr>\n",
       "      <th>...</th>\n",
       "      <td>...</td>\n",
       "      <td>...</td>\n",
       "      <td>...</td>\n",
       "      <td>...</td>\n",
       "      <td>...</td>\n",
       "      <td>...</td>\n",
       "      <td>...</td>\n",
       "      <td>...</td>\n",
       "      <td>...</td>\n",
       "      <td>...</td>\n",
       "      <td>...</td>\n",
       "      <td>...</td>\n",
       "      <td>...</td>\n",
       "      <td>...</td>\n",
       "    </tr>\n",
       "    <tr>\n",
       "      <th>1367</th>\n",
       "      <td>Китай-город</td>\n",
       "      <td>Таганско-Краснопресненская линия</td>\n",
       "      <td>2022</td>\n",
       "      <td>I квартал</td>\n",
       "      <td>0</td>\n",
       "      <td>0</td>\n",
       "      <td>2363487484</td>\n",
       "      <td>NaN</td>\n",
       "      <td>NaN</td>\n",
       "      <td>NaN</td>\n",
       "      <td>NaN</td>\n",
       "      <td>NaN</td>\n",
       "      <td>NaN</td>\n",
       "      <td>NaN</td>\n",
       "    </tr>\n",
       "    <tr>\n",
       "      <th>1368</th>\n",
       "      <td>Киевская</td>\n",
       "      <td>Филёвская линия</td>\n",
       "      <td>2022</td>\n",
       "      <td>I квартал</td>\n",
       "      <td>0</td>\n",
       "      <td>0</td>\n",
       "      <td>2363487549</td>\n",
       "      <td>NaN</td>\n",
       "      <td>NaN</td>\n",
       "      <td>NaN</td>\n",
       "      <td>NaN</td>\n",
       "      <td>NaN</td>\n",
       "      <td>NaN</td>\n",
       "      <td>NaN</td>\n",
       "    </tr>\n",
       "    <tr>\n",
       "      <th>1369</th>\n",
       "      <td>Улица Милашенкова</td>\n",
       "      <td>Московская монорельсовая транспортная система</td>\n",
       "      <td>2021</td>\n",
       "      <td>IV квартал</td>\n",
       "      <td>17991</td>\n",
       "      <td>17295</td>\n",
       "      <td>2363643842</td>\n",
       "      <td>NaN</td>\n",
       "      <td>NaN</td>\n",
       "      <td>NaN</td>\n",
       "      <td>NaN</td>\n",
       "      <td>NaN</td>\n",
       "      <td>NaN</td>\n",
       "      <td>NaN</td>\n",
       "    </tr>\n",
       "    <tr>\n",
       "      <th>1370</th>\n",
       "      <td>Кунцевская</td>\n",
       "      <td>Филёвская линия</td>\n",
       "      <td>2022</td>\n",
       "      <td>I квартал</td>\n",
       "      <td>543507</td>\n",
       "      <td>529972</td>\n",
       "      <td>2363644363</td>\n",
       "      <td>NaN</td>\n",
       "      <td>NaN</td>\n",
       "      <td>NaN</td>\n",
       "      <td>NaN</td>\n",
       "      <td>NaN</td>\n",
       "      <td>NaN</td>\n",
       "      <td>NaN</td>\n",
       "    </tr>\n",
       "    <tr>\n",
       "      <th>1371</th>\n",
       "      <td>Смоленская</td>\n",
       "      <td>Филёвская линия</td>\n",
       "      <td>2022</td>\n",
       "      <td>I квартал</td>\n",
       "      <td>726197</td>\n",
       "      <td>742423</td>\n",
       "      <td>2363644369</td>\n",
       "      <td>NaN</td>\n",
       "      <td>NaN</td>\n",
       "      <td>NaN</td>\n",
       "      <td>NaN</td>\n",
       "      <td>NaN</td>\n",
       "      <td>NaN</td>\n",
       "      <td>NaN</td>\n",
       "    </tr>\n",
       "  </tbody>\n",
       "</table>\n",
       "<p>1372 rows × 14 columns</p>\n",
       "</div>"
      ],
      "text/plain": [
       "          NameOfStation                                           Line  Year  \\\n",
       "0                Митино                      Арбатско-Покровская линия  2021   \n",
       "1         Волоколамская                      Арбатско-Покровская линия  2021   \n",
       "2              Строгино                      Арбатско-Покровская линия  2021   \n",
       "3            Крылатское                      Арбатско-Покровская линия  2021   \n",
       "4     Площадь Революции                      Арбатско-Покровская линия  2021   \n",
       "...                 ...                                            ...   ...   \n",
       "1367        Китай-город               Таганско-Краснопресненская линия  2022   \n",
       "1368           Киевская                                Филёвская линия  2022   \n",
       "1369  Улица Милашенкова  Московская монорельсовая транспортная система  2021   \n",
       "1370         Кунцевская                                Филёвская линия  2022   \n",
       "1371         Смоленская                                Филёвская линия  2022   \n",
       "\n",
       "         Quarter  IncomingPassengers  OutgoingPassengers   global_id  \\\n",
       "0      I квартал             1913498             1829031  1138975996   \n",
       "1      I квартал             1236714             1222309  1138975997   \n",
       "2      I квартал             1938816             1903731  1138975999   \n",
       "3      I квартал             1849616             1818208  1138976000   \n",
       "4      I квартал             2324687             2319343  1138976008   \n",
       "...          ...                 ...                 ...         ...   \n",
       "1367   I квартал                   0                   0  2363487484   \n",
       "1368   I квартал                   0                   0  2363487549   \n",
       "1369  IV квартал               17991               17295  2363643842   \n",
       "1370   I квартал              543507              529972  2363644363   \n",
       "1371   I квартал              726197              742423  2363644369   \n",
       "\n",
       "      NameOfStation_en  Line_en  Year_en  Quarter_en  IncomingPassengers_en  \\\n",
       "0                  NaN      NaN      NaN         NaN                    NaN   \n",
       "1                  NaN      NaN      NaN         NaN                    NaN   \n",
       "2                  NaN      NaN      NaN         NaN                    NaN   \n",
       "3                  NaN      NaN      NaN         NaN                    NaN   \n",
       "4                  NaN      NaN      NaN         NaN                    NaN   \n",
       "...                ...      ...      ...         ...                    ...   \n",
       "1367               NaN      NaN      NaN         NaN                    NaN   \n",
       "1368               NaN      NaN      NaN         NaN                    NaN   \n",
       "1369               NaN      NaN      NaN         NaN                    NaN   \n",
       "1370               NaN      NaN      NaN         NaN                    NaN   \n",
       "1371               NaN      NaN      NaN         NaN                    NaN   \n",
       "\n",
       "      OutgoingPassengers_en  Unnamed: 13  \n",
       "0                       NaN          NaN  \n",
       "1                       NaN          NaN  \n",
       "2                       NaN          NaN  \n",
       "3                       NaN          NaN  \n",
       "4                       NaN          NaN  \n",
       "...                     ...          ...  \n",
       "1367                    NaN          NaN  \n",
       "1368                    NaN          NaN  \n",
       "1369                    NaN          NaN  \n",
       "1370                    NaN          NaN  \n",
       "1371                    NaN          NaN  \n",
       "\n",
       "[1372 rows x 14 columns]"
      ]
     },
     "execution_count": 35,
     "metadata": {},
     "output_type": "execute_result"
    }
   ],
   "source": [
    "df"
   ]
  },
  {
   "cell_type": "code",
   "execution_count": 36,
   "metadata": {},
   "outputs": [],
   "source": [
    "df4 = df[df['NameOfStation'] == 'Митино']"
   ]
  },
  {
   "cell_type": "code",
   "execution_count": 37,
   "metadata": {},
   "outputs": [],
   "source": [
    "df4.to_csv(\"output_df4.csv\", \n",
    "           columns = ['NameOfStation', 'Line', 'Year', 'Quarter', 'IncomingPassengers', 'OutgoingPassengers'],\n",
    "          index = False,\n",
    "          header = False,\n",
    "          na_rep = 'NaN')"
   ]
  },
  {
   "cell_type": "markdown",
   "metadata": {},
   "source": [
    "### Задача"
   ]
  },
  {
   "cell_type": "markdown",
   "metadata": {},
   "source": [
    "⭐ **Вы оказались в аналитическом отделе некоторой социальной сети, которая объединяет людей занимающихся благотворительностью. Для вас подготовили выгрузку пользователей в формате csv. Загрузите файл в датафрейм и оставьте только пользователей женского пола. Сохраните датафрейм в формате csv без индекса и в кодировке utf8. Оставьте только две колонки: username и mail Разделитель значений: точка с запятой. Порядок записей не меняйте.**"
   ]
  },
  {
   "cell_type": "code",
   "execution_count": 40,
   "metadata": {},
   "outputs": [],
   "source": [
    "df5 = pd.read_csv('e:users.csv', sep = ';')"
   ]
  },
  {
   "cell_type": "code",
   "execution_count": 41,
   "metadata": {},
   "outputs": [],
   "source": [
    "df6 = df5[df5['sex'] == 'F'][['username', 'mail']]"
   ]
  },
  {
   "cell_type": "code",
   "execution_count": 42,
   "metadata": {},
   "outputs": [],
   "source": [
    "df6.to_csv('women_mail.csv', index = False, sep = ';')"
   ]
  },
  {
   "cell_type": "markdown",
   "metadata": {},
   "source": [
    "⭐ **Прочитайте первые 50 записей выгрузки и определите количество мужчин.**"
   ]
  },
  {
   "cell_type": "code",
   "execution_count": 43,
   "metadata": {},
   "outputs": [],
   "source": [
    "df7 = pd.read_csv('e:users.csv', sep = ';', nrows=50)"
   ]
  },
  {
   "cell_type": "code",
   "execution_count": 44,
   "metadata": {},
   "outputs": [
    {
     "data": {
      "text/plain": [
       "M    27\n",
       "Name: sex, dtype: int64"
      ]
     },
     "execution_count": 44,
     "metadata": {},
     "output_type": "execute_result"
    }
   ],
   "source": [
    "df7[df7['sex'] == 'M']['sex'].value_counts()"
   ]
  },
  {
   "cell_type": "code",
   "execution_count": 45,
   "metadata": {},
   "outputs": [
    {
     "data": {
      "text/plain": [
       "M    27\n",
       "F    23\n",
       "Name: sex, dtype: int64"
      ]
     },
     "execution_count": 45,
     "metadata": {},
     "output_type": "execute_result"
    }
   ],
   "source": [
    "df7['sex'].value_counts()"
   ]
  },
  {
   "cell_type": "markdown",
   "metadata": {},
   "source": [
    "⭐ **Скачайте выгрузку и организуйте её чтение чанками. Размер каждого чанка установите в 30 строк. Для пятого чанка с данными определите сколько пользователей с группой крови A+**"
   ]
  },
  {
   "cell_type": "code",
   "execution_count": 46,
   "metadata": {},
   "outputs": [],
   "source": [
    "df_ch = pd.read_csv('e:users.csv', sep = ';', chunksize=30)"
   ]
  },
  {
   "cell_type": "code",
   "execution_count": 47,
   "metadata": {},
   "outputs": [
    {
     "name": "stdout",
     "output_type": "stream",
     "text": [
      "A+    4\n",
      "Name: blood_group, dtype: int64\n"
     ]
    }
   ],
   "source": [
    "#1\n",
    "count = 0\n",
    "for df in df_ch:\n",
    "    count += 1\n",
    "    if count == 5:\n",
    "        print(df[df['blood_group'] == 'A+']['blood_group'].value_counts())\n",
    "        break"
   ]
  },
  {
   "cell_type": "code",
   "execution_count": null,
   "metadata": {},
   "outputs": [],
   "source": [
    "#2\n",
    "for i in range(5):\n",
    "    df = next(df_ch)\n",
    "print(len(df[df.blood_group == 'A+']))"
   ]
  },
  {
   "cell_type": "markdown",
   "metadata": {},
   "source": [
    "## 4.4 Кто такой JSON и как с ним подружиться?"
   ]
  },
  {
   "cell_type": "markdown",
   "metadata": {},
   "source": [
    "`JSON`- JavaScript Object Notation"
   ]
  },
  {
   "cell_type": "code",
   "execution_count": 50,
   "metadata": {},
   "outputs": [],
   "source": [
    "df8 = pd.read_json(\"e:test1.json\")"
   ]
  },
  {
   "cell_type": "code",
   "execution_count": 51,
   "metadata": {},
   "outputs": [
    {
     "data": {
      "text/html": [
       "<div>\n",
       "<style scoped>\n",
       "    .dataframe tbody tr th:only-of-type {\n",
       "        vertical-align: middle;\n",
       "    }\n",
       "\n",
       "    .dataframe tbody tr th {\n",
       "        vertical-align: top;\n",
       "    }\n",
       "\n",
       "    .dataframe thead th {\n",
       "        text-align: right;\n",
       "    }\n",
       "</style>\n",
       "<table border=\"1\" class=\"dataframe\">\n",
       "  <thead>\n",
       "    <tr style=\"text-align: right;\">\n",
       "      <th></th>\n",
       "      <th>surname</th>\n",
       "      <th>name</th>\n",
       "      <th>age</th>\n",
       "      <th>city</th>\n",
       "    </tr>\n",
       "  </thead>\n",
       "  <tbody>\n",
       "    <tr>\n",
       "      <th>0</th>\n",
       "      <td>Ivanov</td>\n",
       "      <td>Ivan</td>\n",
       "      <td>18</td>\n",
       "      <td>Kazan</td>\n",
       "    </tr>\n",
       "    <tr>\n",
       "      <th>1</th>\n",
       "      <td>Petrov</td>\n",
       "      <td>Petr</td>\n",
       "      <td>27</td>\n",
       "      <td>Ufa</td>\n",
       "    </tr>\n",
       "  </tbody>\n",
       "</table>\n",
       "</div>"
      ],
      "text/plain": [
       "  surname  name  age   city\n",
       "0  Ivanov  Ivan   18  Kazan\n",
       "1  Petrov  Petr   27    Ufa"
      ]
     },
     "execution_count": 51,
     "metadata": {},
     "output_type": "execute_result"
    }
   ],
   "source": [
    "df8"
   ]
  },
  {
   "cell_type": "code",
   "execution_count": 52,
   "metadata": {},
   "outputs": [
    {
     "data": {
      "text/html": [
       "<div>\n",
       "<style scoped>\n",
       "    .dataframe tbody tr th:only-of-type {\n",
       "        vertical-align: middle;\n",
       "    }\n",
       "\n",
       "    .dataframe tbody tr th {\n",
       "        vertical-align: top;\n",
       "    }\n",
       "\n",
       "    .dataframe thead th {\n",
       "        text-align: right;\n",
       "    }\n",
       "</style>\n",
       "<table border=\"1\" class=\"dataframe\">\n",
       "  <thead>\n",
       "    <tr style=\"text-align: right;\">\n",
       "      <th></th>\n",
       "      <th>username</th>\n",
       "      <th>mail</th>\n",
       "    </tr>\n",
       "  </thead>\n",
       "  <tbody>\n",
       "    <tr>\n",
       "      <th>0</th>\n",
       "      <td>lambertemma</td>\n",
       "      <td>vsmith@yahoo.com</td>\n",
       "    </tr>\n",
       "    <tr>\n",
       "      <th>1</th>\n",
       "      <td>greid</td>\n",
       "      <td>graceholloway@yahoo.com</td>\n",
       "    </tr>\n",
       "  </tbody>\n",
       "</table>\n",
       "</div>"
      ],
      "text/plain": [
       "      username                     mail\n",
       "0  lambertemma         vsmith@yahoo.com\n",
       "1        greid  graceholloway@yahoo.com"
      ]
     },
     "execution_count": 52,
     "metadata": {},
     "output_type": "execute_result"
    }
   ],
   "source": [
    "df6.head(2)"
   ]
  },
  {
   "cell_type": "code",
   "execution_count": 53,
   "metadata": {},
   "outputs": [],
   "source": [
    "#orient =  по записями\n",
    "df6.to_json('output.json', orient = 'records')"
   ]
  },
  {
   "cell_type": "markdown",
   "metadata": {},
   "source": [
    "http://jsonviewer.stack.hu/\n",
    "\n",
    "https://jsonformatter.org/"
   ]
  },
  {
   "cell_type": "markdown",
   "metadata": {},
   "source": [
    "### Задачи"
   ]
  },
  {
   "cell_type": "markdown",
   "metadata": {},
   "source": [
    "⭐ *Загрузите данные в датафрейм и определите самый дешевый тариф. Стоимость указана в столбце `TicketCost`, а наименование тарифа `NameOfTariff`*"
   ]
  },
  {
   "cell_type": "code",
   "execution_count": 54,
   "metadata": {},
   "outputs": [],
   "source": [
    "df9 = pd.read_json('e:data-399-2022-07-01.json', encoding = 'Windows-1251')"
   ]
  },
  {
   "cell_type": "code",
   "execution_count": 55,
   "metadata": {},
   "outputs": [
    {
     "data": {
      "text/html": [
       "<div>\n",
       "<style scoped>\n",
       "    .dataframe tbody tr th:only-of-type {\n",
       "        vertical-align: middle;\n",
       "    }\n",
       "\n",
       "    .dataframe tbody tr th {\n",
       "        vertical-align: top;\n",
       "    }\n",
       "\n",
       "    .dataframe thead th {\n",
       "        text-align: right;\n",
       "    }\n",
       "</style>\n",
       "<table border=\"1\" class=\"dataframe\">\n",
       "  <thead>\n",
       "    <tr style=\"text-align: right;\">\n",
       "      <th></th>\n",
       "      <th>ID</th>\n",
       "      <th>NameOfTariff</th>\n",
       "      <th>TicketZone</th>\n",
       "      <th>global_id</th>\n",
       "      <th>NumberOfZone</th>\n",
       "      <th>TariffDistance</th>\n",
       "      <th>TypeOfTransport</th>\n",
       "      <th>NameOfCarrier</th>\n",
       "      <th>TicketCost</th>\n",
       "      <th>TicketValidity</th>\n",
       "    </tr>\n",
       "  </thead>\n",
       "  <tbody>\n",
       "    <tr>\n",
       "      <th>0</th>\n",
       "      <td>200</td>\n",
       "      <td>«Единый» не более 2 поездок</td>\n",
       "      <td>[{'TicketZone': 'Зона А'}, {'TicketZone': 'Зон...</td>\n",
       "      <td>19368709</td>\n",
       "      <td>-</td>\n",
       "      <td>-</td>\n",
       "      <td>Метрополитен, монорельс, автобус, троллейбус, ...</td>\n",
       "      <td>[{'NameOfCarrier': 'ГУП «Московский метрополит...</td>\n",
       "      <td>114.0</td>\n",
       "      <td>5 дней, включая день продажи</td>\n",
       "    </tr>\n",
       "    <tr>\n",
       "      <th>1</th>\n",
       "      <td>700</td>\n",
       "      <td>«Единый» не более 60 поездок</td>\n",
       "      <td>[{'TicketZone': 'Зона А'}, {'TicketZone': 'Зон...</td>\n",
       "      <td>19368716</td>\n",
       "      <td>-</td>\n",
       "      <td>-</td>\n",
       "      <td>Метрополитен, монорельс, автобус, троллейбус, ...</td>\n",
       "      <td>[{'NameOfCarrier': 'ГУП «Московский метрополит...</td>\n",
       "      <td>1970.0</td>\n",
       "      <td>45 дней, включая день продажи</td>\n",
       "    </tr>\n",
       "  </tbody>\n",
       "</table>\n",
       "</div>"
      ],
      "text/plain": [
       "    ID                  NameOfTariff  \\\n",
       "0  200   «Единый» не более 2 поездок   \n",
       "1  700  «Единый» не более 60 поездок   \n",
       "\n",
       "                                          TicketZone  global_id NumberOfZone  \\\n",
       "0  [{'TicketZone': 'Зона А'}, {'TicketZone': 'Зон...   19368709            -   \n",
       "1  [{'TicketZone': 'Зона А'}, {'TicketZone': 'Зон...   19368716            -   \n",
       "\n",
       "  TariffDistance                                    TypeOfTransport  \\\n",
       "0              -  Метрополитен, монорельс, автобус, троллейбус, ...   \n",
       "1              -  Метрополитен, монорельс, автобус, троллейбус, ...   \n",
       "\n",
       "                                       NameOfCarrier  TicketCost  \\\n",
       "0  [{'NameOfCarrier': 'ГУП «Московский метрополит...       114.0   \n",
       "1  [{'NameOfCarrier': 'ГУП «Московский метрополит...      1970.0   \n",
       "\n",
       "                  TicketValidity  \n",
       "0   5 дней, включая день продажи  \n",
       "1  45 дней, включая день продажи  "
      ]
     },
     "execution_count": 55,
     "metadata": {},
     "output_type": "execute_result"
    }
   ],
   "source": [
    "df9.head(2)"
   ]
  },
  {
   "cell_type": "code",
   "execution_count": 56,
   "metadata": {},
   "outputs": [
    {
     "data": {
      "text/plain": [
       "'«Разовый» льготный'"
      ]
     },
     "execution_count": 56,
     "metadata": {},
     "output_type": "execute_result"
    }
   ],
   "source": [
    "#1\n",
    "df9['NameOfTariff'].iloc[df9['TicketCost'].idxmin()]"
   ]
  },
  {
   "cell_type": "code",
   "execution_count": 57,
   "metadata": {},
   "outputs": [
    {
     "data": {
      "text/plain": [
       "17    «Разовый» льготный\n",
       "Name: NameOfTariff, dtype: object"
      ]
     },
     "execution_count": 57,
     "metadata": {},
     "output_type": "execute_result"
    }
   ],
   "source": [
    "#\n",
    "df9.loc[df9['TicketCost'] == df9.TicketCost.min()]['NameOfTariff']"
   ]
  },
  {
   "cell_type": "code",
   "execution_count": 58,
   "metadata": {},
   "outputs": [
    {
     "data": {
      "text/plain": [
       "17    «Разовый» льготный\n",
       "Name: NameOfTariff, dtype: object"
      ]
     },
     "execution_count": 58,
     "metadata": {},
     "output_type": "execute_result"
    }
   ],
   "source": [
    "#3\n",
    "df9.NameOfTariff[df9.TicketCost == df9.TicketCost.min()]"
   ]
  },
  {
   "cell_type": "markdown",
   "metadata": {},
   "source": [
    "⭐*Загрузите ее в датафрейм, оставьте только столбцы username, name, sex и сохраните в формате json (кодировка utf8). Сохранение выполните таким образом чтобы ключами были названия колонок, а значениями вложенные словари, которые будут хранить лейбл строки и само значение:*"
   ]
  },
  {
   "cell_type": "code",
   "execution_count": 59,
   "metadata": {},
   "outputs": [],
   "source": [
    "df10 = pd.read_csv('e:users (1).csv', sep = ';', usecols=['username', 'name', 'sex'])"
   ]
  },
  {
   "cell_type": "code",
   "execution_count": 60,
   "metadata": {},
   "outputs": [
    {
     "data": {
      "text/html": [
       "<div>\n",
       "<style scoped>\n",
       "    .dataframe tbody tr th:only-of-type {\n",
       "        vertical-align: middle;\n",
       "    }\n",
       "\n",
       "    .dataframe tbody tr th {\n",
       "        vertical-align: top;\n",
       "    }\n",
       "\n",
       "    .dataframe thead th {\n",
       "        text-align: right;\n",
       "    }\n",
       "</style>\n",
       "<table border=\"1\" class=\"dataframe\">\n",
       "  <thead>\n",
       "    <tr style=\"text-align: right;\">\n",
       "      <th></th>\n",
       "      <th>username</th>\n",
       "      <th>name</th>\n",
       "      <th>sex</th>\n",
       "    </tr>\n",
       "  </thead>\n",
       "  <tbody>\n",
       "    <tr>\n",
       "      <th>0</th>\n",
       "      <td>lambertemma</td>\n",
       "      <td>Stacy Reed</td>\n",
       "      <td>F</td>\n",
       "    </tr>\n",
       "    <tr>\n",
       "      <th>1</th>\n",
       "      <td>greid</td>\n",
       "      <td>Carol Farley</td>\n",
       "      <td>F</td>\n",
       "    </tr>\n",
       "  </tbody>\n",
       "</table>\n",
       "</div>"
      ],
      "text/plain": [
       "      username          name sex\n",
       "0  lambertemma    Stacy Reed   F\n",
       "1        greid  Carol Farley   F"
      ]
     },
     "execution_count": 60,
     "metadata": {},
     "output_type": "execute_result"
    }
   ],
   "source": [
    "df10.head(2)"
   ]
  },
  {
   "cell_type": "code",
   "execution_count": 61,
   "metadata": {},
   "outputs": [],
   "source": [
    "df10.to_json('users_step10.json')"
   ]
  },
  {
   "cell_type": "markdown",
   "metadata": {},
   "source": [
    "## 4.5 Знакомимся с форматами HTML, XML, PICKLE, HDF5"
   ]
  },
  {
   "cell_type": "code",
   "execution_count": null,
   "metadata": {},
   "outputs": [],
   "source": [
    "!pip install beautifulsoup4"
   ]
  },
  {
   "cell_type": "code",
   "execution_count": 63,
   "metadata": {},
   "outputs": [],
   "source": [
    "_lst = pd.read_html('e:page_bank.html')"
   ]
  },
  {
   "cell_type": "code",
   "execution_count": 64,
   "metadata": {},
   "outputs": [
    {
     "data": {
      "text/plain": [
       "1"
      ]
     },
     "execution_count": 64,
     "metadata": {},
     "output_type": "execute_result"
    }
   ],
   "source": [
    "len(_lst)"
   ]
  },
  {
   "cell_type": "code",
   "execution_count": 65,
   "metadata": {},
   "outputs": [],
   "source": [
    "df11 = _lst[0]"
   ]
  },
  {
   "cell_type": "code",
   "execution_count": 66,
   "metadata": {},
   "outputs": [],
   "source": [
    "df11.drop(0, inplace = True)"
   ]
  },
  {
   "cell_type": "code",
   "execution_count": 67,
   "metadata": {},
   "outputs": [
    {
     "data": {
      "text/html": [
       "<div>\n",
       "<style scoped>\n",
       "    .dataframe tbody tr th:only-of-type {\n",
       "        vertical-align: middle;\n",
       "    }\n",
       "\n",
       "    .dataframe tbody tr th {\n",
       "        vertical-align: top;\n",
       "    }\n",
       "\n",
       "    .dataframe thead th {\n",
       "        text-align: right;\n",
       "    }\n",
       "</style>\n",
       "<table border=\"1\" class=\"dataframe\">\n",
       "  <thead>\n",
       "    <tr style=\"text-align: right;\">\n",
       "      <th></th>\n",
       "      <th>Государственный регистрационный номер выпуска</th>\n",
       "      <th>Эмитент</th>\n",
       "      <th>Цена (в процентах от номинала) одной ценной бумаги</th>\n",
       "      <th>Cтоимость одной ценной бумаги,  определенная в порядке,  установленном Банком России (руб.)</th>\n",
       "      <th>Поправочный коэффициент,  установленный Банком России</th>\n",
       "      <th>ISIN</th>\n",
       "      <th>Дата погашения*</th>\n",
       "    </tr>\n",
       "  </thead>\n",
       "  <tbody>\n",
       "    <tr>\n",
       "      <th>1</th>\n",
       "      <td>12840061V</td>\n",
       "      <td>МИНФИН</td>\n",
       "      <td>1122135</td>\n",
       "      <td>14 042 891,1294</td>\n",
       "      <td>098</td>\n",
       "      <td>XS0767473852</td>\n",
       "      <td>03.04.2042</td>\n",
       "    </tr>\n",
       "    <tr>\n",
       "      <th>2</th>\n",
       "      <td>12840068V</td>\n",
       "      <td>МИНФИН</td>\n",
       "      <td>1040408</td>\n",
       "      <td>13 020 123,49152</td>\n",
       "      <td>098</td>\n",
       "      <td>XS0971721450</td>\n",
       "      <td>15.09.2023</td>\n",
       "    </tr>\n",
       "  </tbody>\n",
       "</table>\n",
       "</div>"
      ],
      "text/plain": [
       "  Государственный регистрационный номер выпуска Эмитент  \\\n",
       "1                                     12840061V  МИНФИН   \n",
       "2                                     12840068V  МИНФИН   \n",
       "\n",
       "  Цена (в процентах от номинала) одной ценной бумаги  \\\n",
       "1                                            1122135   \n",
       "2                                            1040408   \n",
       "\n",
       "  Cтоимость одной ценной бумаги,  определенная в порядке,  установленном Банком России (руб.)  \\\n",
       "1                                    14 042 891,1294                                            \n",
       "2                                   13 020 123,49152                                            \n",
       "\n",
       "  Поправочный коэффициент,  установленный Банком России          ISIN  \\\n",
       "1                                                098     XS0767473852   \n",
       "2                                                098     XS0971721450   \n",
       "\n",
       "  Дата погашения*  \n",
       "1      03.04.2042  \n",
       "2      15.09.2023  "
      ]
     },
     "execution_count": 67,
     "metadata": {},
     "output_type": "execute_result"
    }
   ],
   "source": [
    "df11.head(2)"
   ]
  },
  {
   "cell_type": "code",
   "execution_count": 68,
   "metadata": {},
   "outputs": [],
   "source": [
    "df11.to_csv('output_page.cvs', index=False)"
   ]
  },
  {
   "cell_type": "markdown",
   "metadata": {},
   "source": [
    "### Задачи"
   ]
  },
  {
   "cell_type": "markdown",
   "metadata": {},
   "source": [
    "⭐ **Ваш друг Илья работает аналитиком в компании, которая занимается установкой и обслуживанием платных стоянок (стоек) для парковки велосипедов. Сегодня на работе ему поручили посчитать вместимость всех велосипедных стоянок в районе Тропарёво-Никулино. Говорит, что компания планирует устанавливать новые платные стоянки для велосипедов в этом районе. Проблема заключается в том, что данные лежат в формате HDF5 и Илья никогда раньше не работал с ним. Он попросил вашей помощи и сказал, что район записан в столбце District, а вместительность парковки в столбце Capacity**\n",
    "\n",
    "**Посчитайте суммарную вместительность велосипедных парковок в районе Тропарёво-Никулино.**"
   ]
  },
  {
   "cell_type": "code",
   "execution_count": 69,
   "metadata": {},
   "outputs": [
    {
     "data": {
      "text/plain": [
       "['/parking_table', '/ser_district_value_counts']"
      ]
     },
     "execution_count": 69,
     "metadata": {},
     "output_type": "execute_result"
    }
   ],
   "source": [
    " pd.HDFStore('e:data_store2.h5').keys()"
   ]
  },
  {
   "cell_type": "code",
   "execution_count": 70,
   "metadata": {},
   "outputs": [],
   "source": [
    "df12 = pd.read_hdf('e:data_store2.h5', 'parking_table', mode = 'a')"
   ]
  },
  {
   "cell_type": "code",
   "execution_count": 71,
   "metadata": {},
   "outputs": [
    {
     "data": {
      "text/plain": [
       "26"
      ]
     },
     "execution_count": 71,
     "metadata": {},
     "output_type": "execute_result"
    }
   ],
   "source": [
    "df12[df12['District'] == 'район Тропарёво-Никулино']['Capacity'].sum()"
   ]
  },
  {
   "cell_type": "markdown",
   "metadata": {},
   "source": [
    "⭐ **Загрузите данные в датафрейм и определите суммарный общий прирост постоянного населения за период с 2014 по 2020 (включительно) для субъекта Камчатский край**\n",
    "\n",
    "**Т.е. мы ходим понять, что произошло с приростом за этот период: был ли он положительным или отрицательным и в каком количестве.**"
   ]
  },
  {
   "cell_type": "code",
   "execution_count": 72,
   "metadata": {},
   "outputs": [],
   "source": [
    "data = pd.read_html('e:generation.html')\n",
    "df13 = data[0]"
   ]
  },
  {
   "cell_type": "code",
   "execution_count": 73,
   "metadata": {},
   "outputs": [
    {
     "data": {
      "text/plain": [
       "94   -8197\n",
       "dtype: int64"
      ]
     },
     "execution_count": 73,
     "metadata": {},
     "output_type": "execute_result"
    }
   ],
   "source": [
    "#1\n",
    "df13[df13['Unnamed: 0'] == 'Камчатский край']\\\n",
    "    .iloc[:, 3:10]\\\n",
    "    .T\\\n",
    "    .astype('int')\\\n",
    "    .sum()"
   ]
  },
  {
   "cell_type": "code",
   "execution_count": 74,
   "metadata": {},
   "outputs": [
    {
     "name": "stdout",
     "output_type": "stream",
     "text": [
      "-8197.0\n"
     ]
    }
   ],
   "source": [
    "#2\n",
    "data = pd.read_html('e:generation.html', \n",
    "                    skiprows = [0,1,3], index_col = 0) \n",
    "df14 = data[0] \n",
    "df14.drop(df14.columns[[0,1,9,10,11,12,13,14,15,16]], axis = 1, inplace = True) \n",
    "print(df14.loc['Камчатский край', :].sum())"
   ]
  },
  {
   "cell_type": "markdown",
   "metadata": {},
   "source": [
    "⭐ **Загрузите данные в датафрейм и определите в какой из областей произошел наибольший отрицательный прирост постоянного населения за 2020 год (сравниваем абсолютные значения)**\n",
    "\n",
    "**вариант из списка**"
   ]
  },
  {
   "cell_type": "code",
   "execution_count": 76,
   "metadata": {},
   "outputs": [],
   "source": [
    "data = pd.read_html('e:generation.html', \n",
    "                    skiprows = [0,1,3], index_col = 0) \n",
    "df15 = data[0] \n",
    "df15.drop(df15.columns[[0,1,9,10,11,12,13,14,15,16]], axis = 1, inplace = True) "
   ]
  },
  {
   "cell_type": "code",
   "execution_count": 77,
   "metadata": {},
   "outputs": [
    {
     "data": {
      "text/plain": [
       "'Свердловская область'"
      ]
     },
     "execution_count": 77,
     "metadata": {},
     "output_type": "execute_result"
    }
   ],
   "source": [
    "df15.loc[['Свердловская область', \n",
    "          'Магаданская область',\n",
    "          'Сахалинская область', \n",
    "          'Калужская область',\n",
    "          'Ярославская область', \n",
    "          'Кировская область' ], '2020 г.'].idxmin()"
   ]
  },
  {
   "cell_type": "markdown",
   "metadata": {},
   "source": [
    "⭐ **Вы продолжаете работу в аналитическом отделе некоторой социальной сети, которая объединяет людей занимающихся благотворительностью. Коллеги аналитики для вас подготовили выгрузку пользователей в формате XML. Загрузите файл XML в датафрейм и посчитайте сколько пользователей женского пола с группой крови B+ в выгрузке.**"
   ]
  },
  {
   "cell_type": "code",
   "execution_count": 78,
   "metadata": {},
   "outputs": [],
   "source": [
    "df16 = pd.read_xml('e:users.xml')"
   ]
  },
  {
   "cell_type": "code",
   "execution_count": 79,
   "metadata": {},
   "outputs": [
    {
     "data": {
      "text/plain": [
       "5"
      ]
     },
     "execution_count": 79,
     "metadata": {},
     "output_type": "execute_result"
    }
   ],
   "source": [
    "#1\n",
    "df16[(df16['sex'] == 'F') & (df16['blood_group'] == 'B+')].shape[0]"
   ]
  },
  {
   "cell_type": "code",
   "execution_count": 80,
   "metadata": {},
   "outputs": [
    {
     "data": {
      "text/plain": [
       "F    5\n",
       "Name: sex, dtype: int64"
      ]
     },
     "execution_count": 80,
     "metadata": {},
     "output_type": "execute_result"
    }
   ],
   "source": [
    "#2\n",
    "df16.loc[(df16['sex']=='F')&(df16['blood_group']=='B+'), 'sex'].value_counts()"
   ]
  },
  {
   "cell_type": "markdown",
   "metadata": {},
   "source": [
    "## 4.6 Старый добрый Excel и немного про базы данных"
   ]
  },
  {
   "cell_type": "code",
   "execution_count": null,
   "metadata": {},
   "outputs": [],
   "source": [
    "# просмотреть все имена листов\n",
    "xl.sheet_names"
   ]
  },
  {
   "cell_type": "code",
   "execution_count": null,
   "metadata": {},
   "outputs": [],
   "source": [
    "pd.read_excel()"
   ]
  },
  {
   "cell_type": "code",
   "execution_count": null,
   "metadata": {},
   "outputs": [],
   "source": []
  },
  {
   "cell_type": "code",
   "execution_count": 82,
   "metadata": {},
   "outputs": [],
   "source": [
    "import sqlite3"
   ]
  },
  {
   "cell_type": "code",
   "execution_count": 83,
   "metadata": {},
   "outputs": [],
   "source": [
    "con = sqlite3.connect('e:local_db.db')"
   ]
  },
  {
   "cell_type": "code",
   "execution_count": 84,
   "metadata": {},
   "outputs": [],
   "source": [
    "cursor = con.execute(\"select * from stations\")"
   ]
  },
  {
   "cell_type": "code",
   "execution_count": 85,
   "metadata": {},
   "outputs": [
    {
     "data": {
      "text/plain": [
       "(('ID', None, None, None, None, None, None),\n",
       " ('Name', None, None, None, None, None, None),\n",
       " ('StationCapacity', None, None, None, None, None, None),\n",
       " ('BikeParkingSlotsAmount', None, None, None, None, None, None),\n",
       " ('global_id', None, None, None, None, None, None),\n",
       " ('Longitude_WGS84', None, None, None, None, None, None),\n",
       " ('Latitude_WGS84', None, None, None, None, None, None),\n",
       " ('AdmArea', None, None, None, None, None, None),\n",
       " ('District', None, None, None, None, None, None),\n",
       " ('Location', None, None, None, None, None, None),\n",
       " ('ClarificationOfLocation', None, None, None, None, None, None),\n",
       " ('DepartmentalAffiliation', None, None, None, None, None, None),\n",
       " ('OperOrgName', None, None, None, None, None, None),\n",
       " ('OperOrgWebsite', None, None, None, None, None, None),\n",
       " ('Photo', None, None, None, None, None, None),\n",
       " ('ID_en', None, None, None, None, None, None),\n",
       " ('Name_en', None, None, None, None, None, None),\n",
       " ('StationCapacity_en', None, None, None, None, None, None),\n",
       " ('BikeParkingSlotsAmount_en', None, None, None, None, None, None),\n",
       " ('Longitude_WGS84_en', None, None, None, None, None, None),\n",
       " ('Latitude_WGS84_en', None, None, None, None, None, None),\n",
       " ('AdmArea_en', None, None, None, None, None, None),\n",
       " ('District_en', None, None, None, None, None, None),\n",
       " ('Location_en', None, None, None, None, None, None),\n",
       " ('ClarificationOfLocation_en', None, None, None, None, None, None),\n",
       " ('DepartmentalAffiliation_en', None, None, None, None, None, None),\n",
       " ('OperOrgName_en', None, None, None, None, None, None),\n",
       " ('OperOrgWebsite_en', None, None, None, None, None, None),\n",
       " ('Photo_en', None, None, None, None, None, None),\n",
       " ('geodata_center', None, None, None, None, None, None),\n",
       " ('geoarea', None, None, None, None, None, None))"
      ]
     },
     "execution_count": 85,
     "metadata": {},
     "output_type": "execute_result"
    }
   ],
   "source": [
    "cursor.description"
   ]
  },
  {
   "cell_type": "code",
   "execution_count": 86,
   "metadata": {},
   "outputs": [],
   "source": [
    "row = cursor.fetchall()"
   ]
  },
  {
   "cell_type": "code",
   "execution_count": 87,
   "metadata": {},
   "outputs": [],
   "source": [
    "df17 = pd.DataFrame(row, columns=[x[0] for x in cursor.description])"
   ]
  },
  {
   "cell_type": "code",
   "execution_count": 88,
   "metadata": {},
   "outputs": [
    {
     "data": {
      "text/html": [
       "<div>\n",
       "<style scoped>\n",
       "    .dataframe tbody tr th:only-of-type {\n",
       "        vertical-align: middle;\n",
       "    }\n",
       "\n",
       "    .dataframe tbody tr th {\n",
       "        vertical-align: top;\n",
       "    }\n",
       "\n",
       "    .dataframe thead th {\n",
       "        text-align: right;\n",
       "    }\n",
       "</style>\n",
       "<table border=\"1\" class=\"dataframe\">\n",
       "  <thead>\n",
       "    <tr style=\"text-align: right;\">\n",
       "      <th></th>\n",
       "      <th>ID</th>\n",
       "      <th>Name</th>\n",
       "      <th>StationCapacity</th>\n",
       "      <th>BikeParkingSlotsAmount</th>\n",
       "      <th>global_id</th>\n",
       "      <th>Longitude_WGS84</th>\n",
       "      <th>Latitude_WGS84</th>\n",
       "      <th>AdmArea</th>\n",
       "      <th>District</th>\n",
       "      <th>Location</th>\n",
       "      <th>...</th>\n",
       "      <th>AdmArea_en</th>\n",
       "      <th>District_en</th>\n",
       "      <th>Location_en</th>\n",
       "      <th>ClarificationOfLocation_en</th>\n",
       "      <th>DepartmentalAffiliation_en</th>\n",
       "      <th>OperOrgName_en</th>\n",
       "      <th>OperOrgWebsite_en</th>\n",
       "      <th>Photo_en</th>\n",
       "      <th>geodata_center</th>\n",
       "      <th>geoarea</th>\n",
       "    </tr>\n",
       "  </thead>\n",
       "  <tbody>\n",
       "    <tr>\n",
       "      <th>0</th>\n",
       "      <td>2</td>\n",
       "      <td>Пункт проката велосипедов № 2</td>\n",
       "      <td>14</td>\n",
       "      <td>None</td>\n",
       "      <td>2757552</td>\n",
       "      <td>37.5997037</td>\n",
       "      <td>55.7468663</td>\n",
       "      <td>Центральный административный округ</td>\n",
       "      <td>район Хамовники</td>\n",
       "      <td>Гоголевский б-р (напротив д.17, стр.1)</td>\n",
       "      <td>...</td>\n",
       "      <td>None</td>\n",
       "      <td>None</td>\n",
       "      <td>None</td>\n",
       "      <td>None</td>\n",
       "      <td>None</td>\n",
       "      <td>None</td>\n",
       "      <td>None</td>\n",
       "      <td>None</td>\n",
       "      <td>None</td>\n",
       "      <td>None</td>\n",
       "    </tr>\n",
       "    <tr>\n",
       "      <th>1</th>\n",
       "      <td>3</td>\n",
       "      <td>Пункт проката велосипедов № 3</td>\n",
       "      <td>12</td>\n",
       "      <td>None</td>\n",
       "      <td>2757553</td>\n",
       "      <td>37.6005927778</td>\n",
       "      <td>55.7509180556</td>\n",
       "      <td>Центральный административный округ</td>\n",
       "      <td>район Арбат</td>\n",
       "      <td>Гоголевский б-р (напротив д.33)</td>\n",
       "      <td>...</td>\n",
       "      <td>None</td>\n",
       "      <td>None</td>\n",
       "      <td>None</td>\n",
       "      <td>None</td>\n",
       "      <td>None</td>\n",
       "      <td>None</td>\n",
       "      <td>None</td>\n",
       "      <td>None</td>\n",
       "      <td>None</td>\n",
       "      <td>None</td>\n",
       "    </tr>\n",
       "    <tr>\n",
       "      <th>2</th>\n",
       "      <td>4</td>\n",
       "      <td>Пункт проката велосипедов № 5</td>\n",
       "      <td>12</td>\n",
       "      <td>None</td>\n",
       "      <td>2757554</td>\n",
       "      <td>37.5999825</td>\n",
       "      <td>55.7553104</td>\n",
       "      <td>Центральный административный округ</td>\n",
       "      <td>Пресненский район</td>\n",
       "      <td>Никитский б-р (напротив д.11/12, стр.3)</td>\n",
       "      <td>...</td>\n",
       "      <td>None</td>\n",
       "      <td>None</td>\n",
       "      <td>None</td>\n",
       "      <td>None</td>\n",
       "      <td>None</td>\n",
       "      <td>None</td>\n",
       "      <td>None</td>\n",
       "      <td>None</td>\n",
       "      <td>None</td>\n",
       "      <td>None</td>\n",
       "    </tr>\n",
       "    <tr>\n",
       "      <th>3</th>\n",
       "      <td>5</td>\n",
       "      <td>Пункт проката велосипедов № 6</td>\n",
       "      <td>15</td>\n",
       "      <td>None</td>\n",
       "      <td>2757555</td>\n",
       "      <td>37.598667</td>\n",
       "      <td>55.757163</td>\n",
       "      <td>Центральный административный округ</td>\n",
       "      <td>Пресненский район</td>\n",
       "      <td>Никитский б-р (напротив д.23/14/9)</td>\n",
       "      <td>...</td>\n",
       "      <td>None</td>\n",
       "      <td>None</td>\n",
       "      <td>None</td>\n",
       "      <td>None</td>\n",
       "      <td>None</td>\n",
       "      <td>None</td>\n",
       "      <td>None</td>\n",
       "      <td>None</td>\n",
       "      <td>None</td>\n",
       "      <td>None</td>\n",
       "    </tr>\n",
       "    <tr>\n",
       "      <th>4</th>\n",
       "      <td>7</td>\n",
       "      <td>Пункт проката велосипедов № 8</td>\n",
       "      <td>14</td>\n",
       "      <td>None</td>\n",
       "      <td>2757557</td>\n",
       "      <td>37.601473</td>\n",
       "      <td>55.761072</td>\n",
       "      <td>Центральный административный округ</td>\n",
       "      <td>Пресненский район</td>\n",
       "      <td>Тверской б-р (напротив д.17, стр.1)</td>\n",
       "      <td>...</td>\n",
       "      <td>None</td>\n",
       "      <td>None</td>\n",
       "      <td>None</td>\n",
       "      <td>None</td>\n",
       "      <td>None</td>\n",
       "      <td>None</td>\n",
       "      <td>None</td>\n",
       "      <td>None</td>\n",
       "      <td>None</td>\n",
       "      <td>None</td>\n",
       "    </tr>\n",
       "    <tr>\n",
       "      <th>...</th>\n",
       "      <td>...</td>\n",
       "      <td>...</td>\n",
       "      <td>...</td>\n",
       "      <td>...</td>\n",
       "      <td>...</td>\n",
       "      <td>...</td>\n",
       "      <td>...</td>\n",
       "      <td>...</td>\n",
       "      <td>...</td>\n",
       "      <td>...</td>\n",
       "      <td>...</td>\n",
       "      <td>...</td>\n",
       "      <td>...</td>\n",
       "      <td>...</td>\n",
       "      <td>...</td>\n",
       "      <td>...</td>\n",
       "      <td>...</td>\n",
       "      <td>...</td>\n",
       "      <td>...</td>\n",
       "      <td>...</td>\n",
       "      <td>...</td>\n",
       "    </tr>\n",
       "    <tr>\n",
       "      <th>722</th>\n",
       "      <td>1003</td>\n",
       "      <td>Пункт проката велосипедов № 966</td>\n",
       "      <td>15</td>\n",
       "      <td>None</td>\n",
       "      <td>2372463065</td>\n",
       "      <td>37.347834</td>\n",
       "      <td>55.690885</td>\n",
       "      <td>Западный административный округ</td>\n",
       "      <td>Можайский район</td>\n",
       "      <td>Сколково, Большой бульвар, д.42, стр.1</td>\n",
       "      <td>...</td>\n",
       "      <td>None</td>\n",
       "      <td>None</td>\n",
       "      <td>None</td>\n",
       "      <td>None</td>\n",
       "      <td>None</td>\n",
       "      <td>None</td>\n",
       "      <td>None</td>\n",
       "      <td>None</td>\n",
       "      <td>None</td>\n",
       "      <td>None</td>\n",
       "    </tr>\n",
       "    <tr>\n",
       "      <th>723</th>\n",
       "      <td>1004</td>\n",
       "      <td>Пункт проката велосипедов № 967</td>\n",
       "      <td>15</td>\n",
       "      <td>None</td>\n",
       "      <td>2372463169</td>\n",
       "      <td>37.359745</td>\n",
       "      <td>55.697622</td>\n",
       "      <td>Западный административный округ</td>\n",
       "      <td>Можайский район</td>\n",
       "      <td>Сколково, Большой бульвар, д.30, стр.1</td>\n",
       "      <td>...</td>\n",
       "      <td>None</td>\n",
       "      <td>None</td>\n",
       "      <td>None</td>\n",
       "      <td>None</td>\n",
       "      <td>None</td>\n",
       "      <td>None</td>\n",
       "      <td>None</td>\n",
       "      <td>None</td>\n",
       "      <td>None</td>\n",
       "      <td>None</td>\n",
       "    </tr>\n",
       "    <tr>\n",
       "      <th>724</th>\n",
       "      <td>1005</td>\n",
       "      <td>Пункт проката велосипедов № 968</td>\n",
       "      <td>15</td>\n",
       "      <td>None</td>\n",
       "      <td>2372463294</td>\n",
       "      <td>37.373916</td>\n",
       "      <td>55.706386</td>\n",
       "      <td>Западный административный округ</td>\n",
       "      <td>Можайский район</td>\n",
       "      <td>Сколково, Большой бульвар, д.7</td>\n",
       "      <td>...</td>\n",
       "      <td>None</td>\n",
       "      <td>None</td>\n",
       "      <td>None</td>\n",
       "      <td>None</td>\n",
       "      <td>None</td>\n",
       "      <td>None</td>\n",
       "      <td>None</td>\n",
       "      <td>None</td>\n",
       "      <td>None</td>\n",
       "      <td>None</td>\n",
       "    </tr>\n",
       "    <tr>\n",
       "      <th>725</th>\n",
       "      <td>1006</td>\n",
       "      <td>Пункт проката велосипедов № 969</td>\n",
       "      <td>15</td>\n",
       "      <td>None</td>\n",
       "      <td>2372463404</td>\n",
       "      <td>37.350457</td>\n",
       "      <td>55.696231</td>\n",
       "      <td>Западный административный округ</td>\n",
       "      <td>Можайский район</td>\n",
       "      <td>Сколково, Большой бульвар, д.47, к.1</td>\n",
       "      <td>...</td>\n",
       "      <td>None</td>\n",
       "      <td>None</td>\n",
       "      <td>None</td>\n",
       "      <td>None</td>\n",
       "      <td>None</td>\n",
       "      <td>None</td>\n",
       "      <td>None</td>\n",
       "      <td>None</td>\n",
       "      <td>None</td>\n",
       "      <td>None</td>\n",
       "    </tr>\n",
       "    <tr>\n",
       "      <th>726</th>\n",
       "      <td>1007</td>\n",
       "      <td>Пункт проката велосипедов № 970</td>\n",
       "      <td>15</td>\n",
       "      <td>None</td>\n",
       "      <td>2372463539</td>\n",
       "      <td>37.35752</td>\n",
       "      <td>55.6961</td>\n",
       "      <td>Западный административный округ</td>\n",
       "      <td>Можайский район</td>\n",
       "      <td>Сколково, ул. Блеза Паскаля, д.2</td>\n",
       "      <td>...</td>\n",
       "      <td>None</td>\n",
       "      <td>None</td>\n",
       "      <td>None</td>\n",
       "      <td>None</td>\n",
       "      <td>None</td>\n",
       "      <td>None</td>\n",
       "      <td>None</td>\n",
       "      <td>None</td>\n",
       "      <td>None</td>\n",
       "      <td>None</td>\n",
       "    </tr>\n",
       "  </tbody>\n",
       "</table>\n",
       "<p>727 rows × 31 columns</p>\n",
       "</div>"
      ],
      "text/plain": [
       "       ID                             Name StationCapacity  \\\n",
       "0       2    Пункт проката велосипедов № 2              14   \n",
       "1       3    Пункт проката велосипедов № 3              12   \n",
       "2       4    Пункт проката велосипедов № 5              12   \n",
       "3       5    Пункт проката велосипедов № 6              15   \n",
       "4       7    Пункт проката велосипедов № 8              14   \n",
       "..    ...                              ...             ...   \n",
       "722  1003  Пункт проката велосипедов № 966              15   \n",
       "723  1004  Пункт проката велосипедов № 967              15   \n",
       "724  1005  Пункт проката велосипедов № 968              15   \n",
       "725  1006  Пункт проката велосипедов № 969              15   \n",
       "726  1007  Пункт проката велосипедов № 970              15   \n",
       "\n",
       "    BikeParkingSlotsAmount   global_id Longitude_WGS84 Latitude_WGS84  \\\n",
       "0                     None     2757552      37.5997037     55.7468663   \n",
       "1                     None     2757553   37.6005927778  55.7509180556   \n",
       "2                     None     2757554      37.5999825     55.7553104   \n",
       "3                     None     2757555       37.598667      55.757163   \n",
       "4                     None     2757557       37.601473      55.761072   \n",
       "..                     ...         ...             ...            ...   \n",
       "722                   None  2372463065       37.347834      55.690885   \n",
       "723                   None  2372463169       37.359745      55.697622   \n",
       "724                   None  2372463294       37.373916      55.706386   \n",
       "725                   None  2372463404       37.350457      55.696231   \n",
       "726                   None  2372463539        37.35752        55.6961   \n",
       "\n",
       "                                AdmArea           District  \\\n",
       "0    Центральный административный округ    район Хамовники   \n",
       "1    Центральный административный округ        район Арбат   \n",
       "2    Центральный административный округ  Пресненский район   \n",
       "3    Центральный административный округ  Пресненский район   \n",
       "4    Центральный административный округ  Пресненский район   \n",
       "..                                  ...                ...   \n",
       "722     Западный административный округ    Можайский район   \n",
       "723     Западный административный округ    Можайский район   \n",
       "724     Западный административный округ    Можайский район   \n",
       "725     Западный административный округ    Можайский район   \n",
       "726     Западный административный округ    Можайский район   \n",
       "\n",
       "                                    Location  ... AdmArea_en District_en  \\\n",
       "0     Гоголевский б-р (напротив д.17, стр.1)  ...       None        None   \n",
       "1            Гоголевский б-р (напротив д.33)  ...       None        None   \n",
       "2    Никитский б-р (напротив д.11/12, стр.3)  ...       None        None   \n",
       "3         Никитский б-р (напротив д.23/14/9)  ...       None        None   \n",
       "4        Тверской б-р (напротив д.17, стр.1)  ...       None        None   \n",
       "..                                       ...  ...        ...         ...   \n",
       "722   Сколково, Большой бульвар, д.42, стр.1  ...       None        None   \n",
       "723   Сколково, Большой бульвар, д.30, стр.1  ...       None        None   \n",
       "724           Сколково, Большой бульвар, д.7  ...       None        None   \n",
       "725     Сколково, Большой бульвар, д.47, к.1  ...       None        None   \n",
       "726         Сколково, ул. Блеза Паскаля, д.2  ...       None        None   \n",
       "\n",
       "    Location_en ClarificationOfLocation_en DepartmentalAffiliation_en  \\\n",
       "0          None                       None                       None   \n",
       "1          None                       None                       None   \n",
       "2          None                       None                       None   \n",
       "3          None                       None                       None   \n",
       "4          None                       None                       None   \n",
       "..          ...                        ...                        ...   \n",
       "722        None                       None                       None   \n",
       "723        None                       None                       None   \n",
       "724        None                       None                       None   \n",
       "725        None                       None                       None   \n",
       "726        None                       None                       None   \n",
       "\n",
       "    OperOrgName_en OperOrgWebsite_en Photo_en geodata_center geoarea  \n",
       "0             None              None     None           None    None  \n",
       "1             None              None     None           None    None  \n",
       "2             None              None     None           None    None  \n",
       "3             None              None     None           None    None  \n",
       "4             None              None     None           None    None  \n",
       "..             ...               ...      ...            ...     ...  \n",
       "722           None              None     None           None    None  \n",
       "723           None              None     None           None    None  \n",
       "724           None              None     None           None    None  \n",
       "725           None              None     None           None    None  \n",
       "726           None              None     None           None    None  \n",
       "\n",
       "[727 rows x 31 columns]"
      ]
     },
     "execution_count": 88,
     "metadata": {},
     "output_type": "execute_result"
    }
   ],
   "source": [
    "df17"
   ]
  },
  {
   "cell_type": "markdown",
   "metadata": {},
   "source": [
    "### Задача"
   ]
  },
  {
   "cell_type": "markdown",
   "metadata": {},
   "source": [
    "⭐ В базе данных `sqlite3` создана таблица `stations`, которая содержит информацию о местоположении станций велопроката, количестве мест на станции и слотов для парковки велосипедов. \n",
    "\n",
    "Выполните действия:\n",
    "\n",
    "1) Выгрузите имя станции (столбец `Name`),  количество мест на станции (столбец `StationCapacity`), адресный ориентир (столбец `Location`). \n",
    "\n",
    "2) Выполните сортировку датафрейма по правилам\n",
    "\n",
    "    сначала идут станции с наибольшим количеством мест\n",
    "    \n",
    "    если у нескольких станций одинаковое количество мест, то отсортируйте их в алфавитном порядке\n",
    "    \n",
    "3) Сохраните датафрейм в формате csv: без индекса, разделитель точка с запятой, кодировка utf8"
   ]
  },
  {
   "cell_type": "code",
   "execution_count": 89,
   "metadata": {},
   "outputs": [],
   "source": [
    "import sqlalchemy as sql"
   ]
  },
  {
   "cell_type": "code",
   "execution_count": 90,
   "metadata": {},
   "outputs": [],
   "source": [
    "con2 = sql.create_engine(\"sqlite:///e:local_db.db\")"
   ]
  },
  {
   "cell_type": "code",
   "execution_count": 91,
   "metadata": {},
   "outputs": [],
   "source": [
    "df18 = pd.read_sql(\"select Name, StationCapacity, Location from stations\", con2)"
   ]
  },
  {
   "cell_type": "code",
   "execution_count": 92,
   "metadata": {},
   "outputs": [
    {
     "name": "stdout",
     "output_type": "stream",
     "text": [
      "<class 'pandas.core.frame.DataFrame'>\n",
      "RangeIndex: 727 entries, 0 to 726\n",
      "Data columns (total 3 columns):\n",
      " #   Column           Non-Null Count  Dtype \n",
      "---  ------           --------------  ----- \n",
      " 0   Name             727 non-null    object\n",
      " 1   StationCapacity  727 non-null    object\n",
      " 2   Location         727 non-null    object\n",
      "dtypes: object(3)\n",
      "memory usage: 17.2+ KB\n"
     ]
    }
   ],
   "source": [
    "df18.info()"
   ]
  },
  {
   "cell_type": "code",
   "execution_count": 93,
   "metadata": {},
   "outputs": [],
   "source": [
    "df18['StationCapacity'] = df18['StationCapacity'].astype('int')"
   ]
  },
  {
   "cell_type": "code",
   "execution_count": 94,
   "metadata": {},
   "outputs": [],
   "source": [
    "df18 = df18.sort_values(by=['StationCapacity', 'Name'], ascending=[False, True])"
   ]
  },
  {
   "cell_type": "code",
   "execution_count": 95,
   "metadata": {},
   "outputs": [],
   "source": [
    "df18.to_csv('stations_task.csv', index=False, sep = ';', encoding='utf8')"
   ]
  },
  {
   "cell_type": "code",
   "execution_count": null,
   "metadata": {},
   "outputs": [],
   "source": [
    "pd.to_sql(if_exist = 'replace')"
   ]
  },
  {
   "cell_type": "markdown",
   "metadata": {},
   "source": [
    "⭐ Ваш старый друг Андрей купил электрокар Tesla Model X, а теперь подумывает о покупке квартиры в другом районе Москвы. Андрей устал, что в его районе почти всегда заняты зарядные станции и подзарядка машины превратилась в проблему, поэтому ему важно, чтобы на районе было много зарядных станций. \n",
    "\n",
    "Порекомендуйте Андрею ТОП-3 района по количеству зарядных станций. Андрей уже подготовил для вас выгрузку в Excel - данные на двух листах. "
   ]
  },
  {
   "cell_type": "code",
   "execution_count": 111,
   "metadata": {},
   "outputs": [],
   "source": [
    "xl = pd.ExcelFile('e:Зарядные_станции_для_электромобилей.xlsx')"
   ]
  },
  {
   "cell_type": "code",
   "execution_count": 112,
   "metadata": {},
   "outputs": [
    {
     "data": {
      "text/plain": [
       "['0', '1']"
      ]
     },
     "execution_count": 112,
     "metadata": {},
     "output_type": "execute_result"
    }
   ],
   "source": [
    "xl.sheet_names"
   ]
  },
  {
   "cell_type": "code",
   "execution_count": 113,
   "metadata": {},
   "outputs": [],
   "source": [
    "df19 = pd.read_excel(xl, sheet_name='0', header=1)"
   ]
  },
  {
   "cell_type": "code",
   "execution_count": 118,
   "metadata": {},
   "outputs": [],
   "source": [
    "df20 = pd.read_excel(xl, sheet_name='1', header=10)"
   ]
  },
  {
   "cell_type": "code",
   "execution_count": 121,
   "metadata": {},
   "outputs": [],
   "source": [
    "df21 = pd.concat([df19, df20], ignore_index=True)"
   ]
  },
  {
   "cell_type": "code",
   "execution_count": 127,
   "metadata": {},
   "outputs": [
    {
     "data": {
      "text/html": [
       "<div>\n",
       "<style scoped>\n",
       "    .dataframe tbody tr th:only-of-type {\n",
       "        vertical-align: middle;\n",
       "    }\n",
       "\n",
       "    .dataframe tbody tr th {\n",
       "        vertical-align: top;\n",
       "    }\n",
       "\n",
       "    .dataframe thead th {\n",
       "        text-align: right;\n",
       "    }\n",
       "</style>\n",
       "<table border=\"1\" class=\"dataframe\">\n",
       "  <thead>\n",
       "    <tr style=\"text-align: right;\">\n",
       "      <th></th>\n",
       "      <th>Код</th>\n",
       "      <th>Наименование</th>\n",
       "      <th>Административный округ</th>\n",
       "      <th>Район</th>\n",
       "      <th>Адрес</th>\n",
       "      <th>Долгота в WGS-84</th>\n",
       "      <th>Широта в WGS-84</th>\n",
       "      <th>global_id</th>\n",
       "      <th>ID_en</th>\n",
       "      <th>Name_en</th>\n",
       "      <th>AdmArea_en</th>\n",
       "      <th>District_en</th>\n",
       "      <th>Address_en</th>\n",
       "      <th>Longitude_WGS84_en</th>\n",
       "      <th>Latitude_WGS84_en</th>\n",
       "      <th>geodata_center</th>\n",
       "      <th>geoarea</th>\n",
       "    </tr>\n",
       "  </thead>\n",
       "  <tbody>\n",
       "    <tr>\n",
       "      <th>0</th>\n",
       "      <td>25586</td>\n",
       "      <td>ЭЗС Колпачный переулок дом 3, строение 2</td>\n",
       "      <td>Центральный административный округ</td>\n",
       "      <td>Басманный район</td>\n",
       "      <td>город Москва, Колпачный переулок, дом 3, строе...</td>\n",
       "      <td>37.643166</td>\n",
       "      <td>55.758317</td>\n",
       "      <td>1036018683</td>\n",
       "      <td>NaN</td>\n",
       "      <td>NaN</td>\n",
       "      <td>NaN</td>\n",
       "      <td>NaN</td>\n",
       "      <td>NaN</td>\n",
       "      <td>NaN</td>\n",
       "      <td>NaN</td>\n",
       "      <td>NaN</td>\n",
       "      <td>NaN</td>\n",
       "    </tr>\n",
       "    <tr>\n",
       "      <th>1</th>\n",
       "      <td>25588</td>\n",
       "      <td>ЭЗС улица Макаренко дом 1/19</td>\n",
       "      <td>Центральный административный округ</td>\n",
       "      <td>Басманный район</td>\n",
       "      <td>город Москва, улица Макаренко, дом 1/19</td>\n",
       "      <td>37.646220</td>\n",
       "      <td>55.761024</td>\n",
       "      <td>1036018684</td>\n",
       "      <td>NaN</td>\n",
       "      <td>NaN</td>\n",
       "      <td>NaN</td>\n",
       "      <td>NaN</td>\n",
       "      <td>NaN</td>\n",
       "      <td>NaN</td>\n",
       "      <td>NaN</td>\n",
       "      <td>NaN</td>\n",
       "      <td>NaN</td>\n",
       "    </tr>\n",
       "  </tbody>\n",
       "</table>\n",
       "</div>"
      ],
      "text/plain": [
       "     Код                              Наименование  \\\n",
       "0  25586  ЭЗС Колпачный переулок дом 3, строение 2   \n",
       "1  25588              ЭЗС улица Макаренко дом 1/19   \n",
       "\n",
       "               Административный округ            Район  \\\n",
       "0  Центральный административный округ  Басманный район   \n",
       "1  Центральный административный округ  Басманный район   \n",
       "\n",
       "                                               Адрес  Долгота в WGS-84  \\\n",
       "0  город Москва, Колпачный переулок, дом 3, строе...         37.643166   \n",
       "1            город Москва, улица Макаренко, дом 1/19         37.646220   \n",
       "\n",
       "   Широта в WGS-84   global_id  ID_en  Name_en  AdmArea_en  District_en  \\\n",
       "0        55.758317  1036018683    NaN      NaN         NaN          NaN   \n",
       "1        55.761024  1036018684    NaN      NaN         NaN          NaN   \n",
       "\n",
       "   Address_en  Longitude_WGS84_en  Latitude_WGS84_en  geodata_center  geoarea  \n",
       "0         NaN                 NaN                NaN             NaN      NaN  \n",
       "1         NaN                 NaN                NaN             NaN      NaN  "
      ]
     },
     "execution_count": 127,
     "metadata": {},
     "output_type": "execute_result"
    }
   ],
   "source": [
    "df21.head(2)"
   ]
  },
  {
   "cell_type": "code",
   "execution_count": 130,
   "metadata": {},
   "outputs": [
    {
     "data": {
      "text/plain": [
       "Пресненский район    11\n",
       "Мещанский район      10\n",
       "Басманный район       9\n",
       "Name: Район, dtype: int64"
      ]
     },
     "execution_count": 130,
     "metadata": {},
     "output_type": "execute_result"
    }
   ],
   "source": [
    "df21['Район'].value_counts().nlargest(3)"
   ]
  }
 ],
 "metadata": {
  "kernelspec": {
   "display_name": "Python 3",
   "language": "python",
   "name": "python3"
  },
  "language_info": {
   "codemirror_mode": {
    "name": "ipython",
    "version": 3
   },
   "file_extension": ".py",
   "mimetype": "text/x-python",
   "name": "python",
   "nbconvert_exporter": "python",
   "pygments_lexer": "ipython3",
   "version": "3.8.5"
  }
 },
 "nbformat": 4,
 "nbformat_minor": 4
}

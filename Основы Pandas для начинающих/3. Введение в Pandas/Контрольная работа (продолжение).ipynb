{
 "cells": [
  {
   "cell_type": "markdown",
   "metadata": {},
   "source": [
    "### Контольная работа (продолжение)"
   ]
  },
  {
   "cell_type": "code",
   "execution_count": 325,
   "metadata": {},
   "outputs": [],
   "source": [
    "import pandas as pd\n",
    "import numpy as np"
   ]
  },
  {
   "cell_type": "code",
   "execution_count": 527,
   "metadata": {},
   "outputs": [],
   "source": [
    "data = [['Girev', 'Andrey', 'ВИП', 2815, 29, 58, 6358, 'Moscow', 'Xiaomi'],\n",
    "       ['Bykin', 'Stas', 'Все за 300', 3634, 37, 78, 602, 'Kazan',\n",
    "        'Samsung'],\n",
    "       ['Ivanov', 'Alex', 'Всё за 800', 410, 47, 81, 3582, 'Moscow',\n",
    "        'Huawei'],\n",
    "       ['Andreev', 'Sergey', 'Всё за 500', 1981, 75, 98, 5442, 'Kazan',\n",
    "        'Apple'],\n",
    "       ['Girev', 'Stas', 'Всё за 800', 4969, 43, 61, 8510, 'Moscow',\n",
    "        'Samsung'],\n",
    "       ['Bykin', 'Andrey', 'Всё за 500', 4308, 49, 39, 2525, 'Moscow',\n",
    "        'Xiaomi'],\n",
    "       ['Kozlov', 'Igor', 'Всё за 800', 300, 60, 31, 8543, 'Yakutsk',\n",
    "        'Samsung'],\n",
    "       ['Girev', 'Alex', 'Промо', 4199, 47, 90, 3925, 'Kazan', 'Apple'],\n",
    "       ['Petrov', 'Nikolay', 'ВИП', 4810, 72, 88, 7188, 'Moscow',\n",
    "        'Apple'],\n",
    "       ['Andreev', 'Sergey', 'Всё за 800', 4118, 52, 53, 419, 'Yakutsk',\n",
    "        'Apple'],\n",
    "       ['Smolov', 'Stas', 'Промо', 1991, 28, 67, 5016, 'Kazan', 'Xiaomi'],\n",
    "       ['Girev', 'Igor', 'Корпоративный', 1430, 69, 19, 9520, 'Yakutsk',\n",
    "        'Samsung'],\n",
    "       ['Kozlov', 'Andrey', 'Корпоративный', 113, 71, 82, 2785, 'Kazan',\n",
    "        'Apple'],\n",
    "       ['Ivanov', 'Sergey', 'Промо', 3394, 39, 12, 2718, 'Yakutsk',\n",
    "        'Xiaomi'],\n",
    "       ['Smolov', 'Sergey', 'Всё за 250 (архив)', 3493, 32, 6, 8959,\n",
    "        'Yakutsk', 'Huawei'],\n",
    "       ['Kozlov', 'Stas', 'Всё за 800', 4565, 59, 82, 3168, 'Moscow',\n",
    "        'Apple'],\n",
    "       ['Vlasov', 'Andrey', 'Всё за 800', 3192, 29, 74, 2852, 'Yakutsk',\n",
    "        'Xiaomi'],\n",
    "       ['Smolov', 'Alex', 'Корпоративный', 3764, 71, 22, 2768, 'Moscow',\n",
    "        'Huawei'],\n",
    "       ['Vlasov', 'Sergey', 'Всё за 800', 3816, 28, 35, 5734,\n",
    "        'Vladivostok', 'Apple'],\n",
    "       ['Bykin', 'Alex', 'Промо', 817, 65, 34, 2131, 'Vladivostok',\n",
    "        'Samsung'],\n",
    "       ['Andreev', 'Nikolay', 'Всё за 500', 385, 49, 62, 1815, 'Kazan',\n",
    "        'Xiaomi'],\n",
    "       ['Bykin', 'Igor', 'Всё за 500', 2642, 38, 11, 3787, 'Moscow',\n",
    "        'Xiaomi'],\n",
    "       ['Girev', 'Sergey', 'Все за 300', 4230, 62, 68, 5512,\n",
    "        'Vladivostok', 'Samsung'],\n",
    "       ['Bykin', 'Sergey', 'Всё за 800', 4100, 48, 39, 227, 'Moscow',\n",
    "        'Xiaomi'],\n",
    "       ['Girev', 'Stas', 'Все за 300', 3371, 53, 24, 7946, 'Kazan',\n",
    "        'Apple'],\n",
    "       ['Smolov', 'Sergey', 'Корпоративный', 3577, 70, 71, 8847,\n",
    "        'Yakutsk', 'Huawei'],\n",
    "       ['Mezov', 'Nikolay', 'Всё за 250 (архив)', 2742, 28, 19, 7115,\n",
    "        'Yakutsk', 'Huawei'],\n",
    "       ['Smolov', 'Stas', 'Всё за 500', 2644, 41, 33, 8341, 'Moscow',\n",
    "        'Xiaomi'],\n",
    "       ['Vlasov', 'Andrey', 'Всё за 500', 4725, 26, 93, 9441,\n",
    "        'Vladivostok', 'Xiaomi'],\n",
    "       ['Ivanov', 'Nikolay', 'Всё за 500', 2785, 41, 5, 2901, 'Moscow',\n",
    "        'Samsung']]\n",
    "\n",
    "_df = pd.DataFrame(data, columns = ['surname', 'name', 'tarif', 'balance', 'age', 'sms', 'voice', 'city', 'phone'])"
   ]
  },
  {
   "cell_type": "code",
   "execution_count": 354,
   "metadata": {},
   "outputs": [
    {
     "data": {
      "text/html": [
       "<div>\n",
       "<style scoped>\n",
       "    .dataframe tbody tr th:only-of-type {\n",
       "        vertical-align: middle;\n",
       "    }\n",
       "\n",
       "    .dataframe tbody tr th {\n",
       "        vertical-align: top;\n",
       "    }\n",
       "\n",
       "    .dataframe thead th {\n",
       "        text-align: right;\n",
       "    }\n",
       "</style>\n",
       "<table border=\"1\" class=\"dataframe\">\n",
       "  <thead>\n",
       "    <tr style=\"text-align: right;\">\n",
       "      <th></th>\n",
       "      <th>surname</th>\n",
       "      <th>name</th>\n",
       "      <th>tarif</th>\n",
       "      <th>balance</th>\n",
       "      <th>age</th>\n",
       "      <th>sms</th>\n",
       "      <th>voice</th>\n",
       "      <th>city</th>\n",
       "      <th>phone</th>\n",
       "    </tr>\n",
       "  </thead>\n",
       "  <tbody>\n",
       "    <tr>\n",
       "      <th>0</th>\n",
       "      <td>Girev</td>\n",
       "      <td>Andrey</td>\n",
       "      <td>ВИП</td>\n",
       "      <td>2815</td>\n",
       "      <td>29</td>\n",
       "      <td>58</td>\n",
       "      <td>6358</td>\n",
       "      <td>Moscow</td>\n",
       "      <td>Xiaomi</td>\n",
       "    </tr>\n",
       "    <tr>\n",
       "      <th>1</th>\n",
       "      <td>Bykin</td>\n",
       "      <td>Stas</td>\n",
       "      <td>Все за 300</td>\n",
       "      <td>3634</td>\n",
       "      <td>37</td>\n",
       "      <td>78</td>\n",
       "      <td>602</td>\n",
       "      <td>Kazan</td>\n",
       "      <td>Samsung</td>\n",
       "    </tr>\n",
       "    <tr>\n",
       "      <th>2</th>\n",
       "      <td>Ivanov</td>\n",
       "      <td>Alex</td>\n",
       "      <td>Всё за 800</td>\n",
       "      <td>410</td>\n",
       "      <td>47</td>\n",
       "      <td>81</td>\n",
       "      <td>3582</td>\n",
       "      <td>Moscow</td>\n",
       "      <td>Huawei</td>\n",
       "    </tr>\n",
       "    <tr>\n",
       "      <th>3</th>\n",
       "      <td>Andreev</td>\n",
       "      <td>Sergey</td>\n",
       "      <td>Всё за 500</td>\n",
       "      <td>1981</td>\n",
       "      <td>75</td>\n",
       "      <td>98</td>\n",
       "      <td>5442</td>\n",
       "      <td>Kazan</td>\n",
       "      <td>Apple</td>\n",
       "    </tr>\n",
       "    <tr>\n",
       "      <th>4</th>\n",
       "      <td>Girev</td>\n",
       "      <td>Stas</td>\n",
       "      <td>Всё за 800</td>\n",
       "      <td>4969</td>\n",
       "      <td>43</td>\n",
       "      <td>61</td>\n",
       "      <td>8510</td>\n",
       "      <td>Moscow</td>\n",
       "      <td>Samsung</td>\n",
       "    </tr>\n",
       "    <tr>\n",
       "      <th>5</th>\n",
       "      <td>Bykin</td>\n",
       "      <td>Andrey</td>\n",
       "      <td>Всё за 500</td>\n",
       "      <td>4308</td>\n",
       "      <td>49</td>\n",
       "      <td>39</td>\n",
       "      <td>2525</td>\n",
       "      <td>Moscow</td>\n",
       "      <td>Xiaomi</td>\n",
       "    </tr>\n",
       "    <tr>\n",
       "      <th>6</th>\n",
       "      <td>Kozlov</td>\n",
       "      <td>Igor</td>\n",
       "      <td>Всё за 800</td>\n",
       "      <td>300</td>\n",
       "      <td>60</td>\n",
       "      <td>31</td>\n",
       "      <td>8543</td>\n",
       "      <td>Yakutsk</td>\n",
       "      <td>Samsung</td>\n",
       "    </tr>\n",
       "    <tr>\n",
       "      <th>7</th>\n",
       "      <td>Girev</td>\n",
       "      <td>Alex</td>\n",
       "      <td>Промо</td>\n",
       "      <td>4199</td>\n",
       "      <td>47</td>\n",
       "      <td>90</td>\n",
       "      <td>3925</td>\n",
       "      <td>Kazan</td>\n",
       "      <td>Apple</td>\n",
       "    </tr>\n",
       "    <tr>\n",
       "      <th>8</th>\n",
       "      <td>Petrov</td>\n",
       "      <td>Nikolay</td>\n",
       "      <td>ВИП</td>\n",
       "      <td>4810</td>\n",
       "      <td>72</td>\n",
       "      <td>88</td>\n",
       "      <td>7188</td>\n",
       "      <td>Moscow</td>\n",
       "      <td>Apple</td>\n",
       "    </tr>\n",
       "    <tr>\n",
       "      <th>9</th>\n",
       "      <td>Andreev</td>\n",
       "      <td>Sergey</td>\n",
       "      <td>Всё за 800</td>\n",
       "      <td>4118</td>\n",
       "      <td>52</td>\n",
       "      <td>53</td>\n",
       "      <td>419</td>\n",
       "      <td>Yakutsk</td>\n",
       "      <td>Apple</td>\n",
       "    </tr>\n",
       "    <tr>\n",
       "      <th>10</th>\n",
       "      <td>Smolov</td>\n",
       "      <td>Stas</td>\n",
       "      <td>Промо</td>\n",
       "      <td>1991</td>\n",
       "      <td>28</td>\n",
       "      <td>67</td>\n",
       "      <td>5016</td>\n",
       "      <td>Kazan</td>\n",
       "      <td>Xiaomi</td>\n",
       "    </tr>\n",
       "    <tr>\n",
       "      <th>11</th>\n",
       "      <td>Girev</td>\n",
       "      <td>Igor</td>\n",
       "      <td>Корпоративный</td>\n",
       "      <td>1430</td>\n",
       "      <td>69</td>\n",
       "      <td>19</td>\n",
       "      <td>9520</td>\n",
       "      <td>Yakutsk</td>\n",
       "      <td>Samsung</td>\n",
       "    </tr>\n",
       "    <tr>\n",
       "      <th>12</th>\n",
       "      <td>Kozlov</td>\n",
       "      <td>Andrey</td>\n",
       "      <td>Корпоративный</td>\n",
       "      <td>113</td>\n",
       "      <td>71</td>\n",
       "      <td>82</td>\n",
       "      <td>2785</td>\n",
       "      <td>Kazan</td>\n",
       "      <td>Apple</td>\n",
       "    </tr>\n",
       "    <tr>\n",
       "      <th>13</th>\n",
       "      <td>Ivanov</td>\n",
       "      <td>Sergey</td>\n",
       "      <td>Промо</td>\n",
       "      <td>3394</td>\n",
       "      <td>39</td>\n",
       "      <td>12</td>\n",
       "      <td>2718</td>\n",
       "      <td>Yakutsk</td>\n",
       "      <td>Xiaomi</td>\n",
       "    </tr>\n",
       "    <tr>\n",
       "      <th>14</th>\n",
       "      <td>Smolov</td>\n",
       "      <td>Sergey</td>\n",
       "      <td>Всё за 250 (архив)</td>\n",
       "      <td>3493</td>\n",
       "      <td>32</td>\n",
       "      <td>6</td>\n",
       "      <td>8959</td>\n",
       "      <td>Yakutsk</td>\n",
       "      <td>Huawei</td>\n",
       "    </tr>\n",
       "    <tr>\n",
       "      <th>15</th>\n",
       "      <td>Kozlov</td>\n",
       "      <td>Stas</td>\n",
       "      <td>Всё за 800</td>\n",
       "      <td>4565</td>\n",
       "      <td>59</td>\n",
       "      <td>82</td>\n",
       "      <td>3168</td>\n",
       "      <td>Moscow</td>\n",
       "      <td>Apple</td>\n",
       "    </tr>\n",
       "    <tr>\n",
       "      <th>16</th>\n",
       "      <td>Vlasov</td>\n",
       "      <td>Andrey</td>\n",
       "      <td>Всё за 800</td>\n",
       "      <td>3192</td>\n",
       "      <td>29</td>\n",
       "      <td>74</td>\n",
       "      <td>2852</td>\n",
       "      <td>Yakutsk</td>\n",
       "      <td>Xiaomi</td>\n",
       "    </tr>\n",
       "    <tr>\n",
       "      <th>17</th>\n",
       "      <td>Smolov</td>\n",
       "      <td>Alex</td>\n",
       "      <td>Корпоративный</td>\n",
       "      <td>3764</td>\n",
       "      <td>71</td>\n",
       "      <td>22</td>\n",
       "      <td>2768</td>\n",
       "      <td>Moscow</td>\n",
       "      <td>Huawei</td>\n",
       "    </tr>\n",
       "    <tr>\n",
       "      <th>18</th>\n",
       "      <td>Vlasov</td>\n",
       "      <td>Sergey</td>\n",
       "      <td>Всё за 800</td>\n",
       "      <td>3816</td>\n",
       "      <td>28</td>\n",
       "      <td>35</td>\n",
       "      <td>5734</td>\n",
       "      <td>Vladivostok</td>\n",
       "      <td>Apple</td>\n",
       "    </tr>\n",
       "    <tr>\n",
       "      <th>19</th>\n",
       "      <td>Bykin</td>\n",
       "      <td>Alex</td>\n",
       "      <td>Промо</td>\n",
       "      <td>817</td>\n",
       "      <td>65</td>\n",
       "      <td>34</td>\n",
       "      <td>2131</td>\n",
       "      <td>Vladivostok</td>\n",
       "      <td>Samsung</td>\n",
       "    </tr>\n",
       "    <tr>\n",
       "      <th>20</th>\n",
       "      <td>Andreev</td>\n",
       "      <td>Nikolay</td>\n",
       "      <td>Всё за 500</td>\n",
       "      <td>385</td>\n",
       "      <td>49</td>\n",
       "      <td>62</td>\n",
       "      <td>1815</td>\n",
       "      <td>Kazan</td>\n",
       "      <td>Xiaomi</td>\n",
       "    </tr>\n",
       "    <tr>\n",
       "      <th>21</th>\n",
       "      <td>Bykin</td>\n",
       "      <td>Igor</td>\n",
       "      <td>Всё за 500</td>\n",
       "      <td>2642</td>\n",
       "      <td>38</td>\n",
       "      <td>11</td>\n",
       "      <td>3787</td>\n",
       "      <td>Moscow</td>\n",
       "      <td>Xiaomi</td>\n",
       "    </tr>\n",
       "    <tr>\n",
       "      <th>22</th>\n",
       "      <td>Girev</td>\n",
       "      <td>Sergey</td>\n",
       "      <td>Все за 300</td>\n",
       "      <td>4230</td>\n",
       "      <td>62</td>\n",
       "      <td>68</td>\n",
       "      <td>5512</td>\n",
       "      <td>Vladivostok</td>\n",
       "      <td>Samsung</td>\n",
       "    </tr>\n",
       "    <tr>\n",
       "      <th>23</th>\n",
       "      <td>Bykin</td>\n",
       "      <td>Sergey</td>\n",
       "      <td>Всё за 800</td>\n",
       "      <td>4100</td>\n",
       "      <td>48</td>\n",
       "      <td>39</td>\n",
       "      <td>227</td>\n",
       "      <td>Moscow</td>\n",
       "      <td>Xiaomi</td>\n",
       "    </tr>\n",
       "    <tr>\n",
       "      <th>24</th>\n",
       "      <td>Girev</td>\n",
       "      <td>Stas</td>\n",
       "      <td>Все за 300</td>\n",
       "      <td>3371</td>\n",
       "      <td>53</td>\n",
       "      <td>24</td>\n",
       "      <td>7946</td>\n",
       "      <td>Kazan</td>\n",
       "      <td>Apple</td>\n",
       "    </tr>\n",
       "    <tr>\n",
       "      <th>25</th>\n",
       "      <td>Smolov</td>\n",
       "      <td>Sergey</td>\n",
       "      <td>Корпоративный</td>\n",
       "      <td>3577</td>\n",
       "      <td>70</td>\n",
       "      <td>71</td>\n",
       "      <td>8847</td>\n",
       "      <td>Yakutsk</td>\n",
       "      <td>Huawei</td>\n",
       "    </tr>\n",
       "    <tr>\n",
       "      <th>26</th>\n",
       "      <td>Mezov</td>\n",
       "      <td>Nikolay</td>\n",
       "      <td>Всё за 250 (архив)</td>\n",
       "      <td>2742</td>\n",
       "      <td>28</td>\n",
       "      <td>19</td>\n",
       "      <td>7115</td>\n",
       "      <td>Yakutsk</td>\n",
       "      <td>Huawei</td>\n",
       "    </tr>\n",
       "    <tr>\n",
       "      <th>27</th>\n",
       "      <td>Smolov</td>\n",
       "      <td>Stas</td>\n",
       "      <td>Всё за 500</td>\n",
       "      <td>2644</td>\n",
       "      <td>41</td>\n",
       "      <td>33</td>\n",
       "      <td>8341</td>\n",
       "      <td>Moscow</td>\n",
       "      <td>Xiaomi</td>\n",
       "    </tr>\n",
       "    <tr>\n",
       "      <th>28</th>\n",
       "      <td>Vlasov</td>\n",
       "      <td>Andrey</td>\n",
       "      <td>Всё за 500</td>\n",
       "      <td>4725</td>\n",
       "      <td>26</td>\n",
       "      <td>93</td>\n",
       "      <td>9441</td>\n",
       "      <td>Vladivostok</td>\n",
       "      <td>Xiaomi</td>\n",
       "    </tr>\n",
       "    <tr>\n",
       "      <th>29</th>\n",
       "      <td>Ivanov</td>\n",
       "      <td>Nikolay</td>\n",
       "      <td>Всё за 500</td>\n",
       "      <td>2785</td>\n",
       "      <td>41</td>\n",
       "      <td>5</td>\n",
       "      <td>2901</td>\n",
       "      <td>Moscow</td>\n",
       "      <td>Samsung</td>\n",
       "    </tr>\n",
       "  </tbody>\n",
       "</table>\n",
       "</div>"
      ],
      "text/plain": [
       "    surname     name               tarif  balance  age  sms  voice  \\\n",
       "0     Girev   Andrey                 ВИП     2815   29   58   6358   \n",
       "1     Bykin     Stas          Все за 300     3634   37   78    602   \n",
       "2    Ivanov     Alex          Всё за 800      410   47   81   3582   \n",
       "3   Andreev   Sergey          Всё за 500     1981   75   98   5442   \n",
       "4     Girev     Stas          Всё за 800     4969   43   61   8510   \n",
       "5     Bykin   Andrey          Всё за 500     4308   49   39   2525   \n",
       "6    Kozlov     Igor          Всё за 800      300   60   31   8543   \n",
       "7     Girev     Alex               Промо     4199   47   90   3925   \n",
       "8    Petrov  Nikolay                 ВИП     4810   72   88   7188   \n",
       "9   Andreev   Sergey          Всё за 800     4118   52   53    419   \n",
       "10   Smolov     Stas               Промо     1991   28   67   5016   \n",
       "11    Girev     Igor       Корпоративный     1430   69   19   9520   \n",
       "12   Kozlov   Andrey       Корпоративный      113   71   82   2785   \n",
       "13   Ivanov   Sergey               Промо     3394   39   12   2718   \n",
       "14   Smolov   Sergey  Всё за 250 (архив)     3493   32    6   8959   \n",
       "15   Kozlov     Stas          Всё за 800     4565   59   82   3168   \n",
       "16   Vlasov   Andrey          Всё за 800     3192   29   74   2852   \n",
       "17   Smolov     Alex       Корпоративный     3764   71   22   2768   \n",
       "18   Vlasov   Sergey          Всё за 800     3816   28   35   5734   \n",
       "19    Bykin     Alex               Промо      817   65   34   2131   \n",
       "20  Andreev  Nikolay          Всё за 500      385   49   62   1815   \n",
       "21    Bykin     Igor          Всё за 500     2642   38   11   3787   \n",
       "22    Girev   Sergey          Все за 300     4230   62   68   5512   \n",
       "23    Bykin   Sergey          Всё за 800     4100   48   39    227   \n",
       "24    Girev     Stas          Все за 300     3371   53   24   7946   \n",
       "25   Smolov   Sergey       Корпоративный     3577   70   71   8847   \n",
       "26    Mezov  Nikolay  Всё за 250 (архив)     2742   28   19   7115   \n",
       "27   Smolov     Stas          Всё за 500     2644   41   33   8341   \n",
       "28   Vlasov   Andrey          Всё за 500     4725   26   93   9441   \n",
       "29   Ivanov  Nikolay          Всё за 500     2785   41    5   2901   \n",
       "\n",
       "           city    phone  \n",
       "0        Moscow   Xiaomi  \n",
       "1         Kazan  Samsung  \n",
       "2        Moscow   Huawei  \n",
       "3         Kazan    Apple  \n",
       "4        Moscow  Samsung  \n",
       "5        Moscow   Xiaomi  \n",
       "6       Yakutsk  Samsung  \n",
       "7         Kazan    Apple  \n",
       "8        Moscow    Apple  \n",
       "9       Yakutsk    Apple  \n",
       "10        Kazan   Xiaomi  \n",
       "11      Yakutsk  Samsung  \n",
       "12        Kazan    Apple  \n",
       "13      Yakutsk   Xiaomi  \n",
       "14      Yakutsk   Huawei  \n",
       "15       Moscow    Apple  \n",
       "16      Yakutsk   Xiaomi  \n",
       "17       Moscow   Huawei  \n",
       "18  Vladivostok    Apple  \n",
       "19  Vladivostok  Samsung  \n",
       "20        Kazan   Xiaomi  \n",
       "21       Moscow   Xiaomi  \n",
       "22  Vladivostok  Samsung  \n",
       "23       Moscow   Xiaomi  \n",
       "24        Kazan    Apple  \n",
       "25      Yakutsk   Huawei  \n",
       "26      Yakutsk   Huawei  \n",
       "27       Moscow   Xiaomi  \n",
       "28  Vladivostok   Xiaomi  \n",
       "29       Moscow  Samsung  "
      ]
     },
     "execution_count": 354,
     "metadata": {},
     "output_type": "execute_result"
    }
   ],
   "source": [
    "_df"
   ]
  },
  {
   "cell_type": "markdown",
   "metadata": {},
   "source": [
    "**⭐Объедините столбцы surname и name в столбец с именем client_name**"
   ]
  },
  {
   "cell_type": "code",
   "execution_count": 162,
   "metadata": {},
   "outputs": [],
   "source": [
    "_df['client_name'] = _df['surname'] + ' '+ _df['name']"
   ]
  },
  {
   "cell_type": "markdown",
   "metadata": {},
   "source": [
    "**⭐Поступила задача разбить клиентов на группы:**\n",
    "\n",
    " * до 25 лет (включительно) - A (англ. буква)\n",
    " * с 26 до 40 лет (включительно) - B (англ. буква)\n",
    " * старше 40 лет - C (англ. буква)\n",
    " \n",
    "**Запишите название группы в столбец group:**"
   ]
  },
  {
   "cell_type": "code",
   "execution_count": 163,
   "metadata": {},
   "outputs": [],
   "source": [
    "#1\n",
    "_df['group'] = np.where(_df['age'] < 25, 'A', (np.where(_df['age'] > 40, 'C', 'B')))"
   ]
  },
  {
   "cell_type": "code",
   "execution_count": 164,
   "metadata": {},
   "outputs": [],
   "source": [
    "#2\n",
    "#_df['group'] = _df.age.apply(lambda age: 'A' if age < 26 else 'C' if age > 40 else 'B')"
   ]
  },
  {
   "cell_type": "markdown",
   "metadata": {},
   "source": [
    "**⭐Пришла информация, что на сервере в Москве возник сбой и баланс за отправленные смс не списался (у пользователей из Москвы). Спишите с каждого пользователя из Москвы деньги за смс. Количество отправленных смс за которые не списали деньги в столбце sms. Стоимость 1 смс - 3 рубля. (обновите колонку balance):**"
   ]
  },
  {
   "cell_type": "code",
   "execution_count": 165,
   "metadata": {},
   "outputs": [],
   "source": [
    "_df.loc[_df['city'] == 'Moscow', ['balance']] = _df['balance'] - _df['sms'] * 3"
   ]
  },
  {
   "cell_type": "markdown",
   "metadata": {},
   "source": [
    "⭐**Ваш коллега Юра отправил вам результаты обработки данных в файле .npz, но торопился и не успел написать под какими ключами сохранил массивы в файл. Скачайте файл, определите название ключа под которым сохранён первый массив в файле.**"
   ]
  },
  {
   "cell_type": "code",
   "execution_count": 167,
   "metadata": {},
   "outputs": [],
   "source": [
    "arch = np.load('e:data.npz')"
   ]
  },
  {
   "cell_type": "code",
   "execution_count": 169,
   "metadata": {},
   "outputs": [
    {
     "data": {
      "text/plain": [
       "['mykey1', 'mykey2']"
      ]
     },
     "execution_count": 169,
     "metadata": {},
     "output_type": "execute_result"
    }
   ],
   "source": [
    "arch.files"
   ]
  },
  {
   "cell_type": "code",
   "execution_count": 170,
   "metadata": {},
   "outputs": [
    {
     "data": {
      "text/plain": [
       "array([1, 2, 3])"
      ]
     },
     "execution_count": 170,
     "metadata": {},
     "output_type": "execute_result"
    }
   ],
   "source": [
    "arch['mykey1']"
   ]
  },
  {
   "cell_type": "code",
   "execution_count": 171,
   "metadata": {},
   "outputs": [
    {
     "data": {
      "text/plain": [
       "array([4, 5, 6])"
      ]
     },
     "execution_count": 171,
     "metadata": {},
     "output_type": "execute_result"
    }
   ],
   "source": [
    "arch['mykey2']"
   ]
  },
  {
   "cell_type": "markdown",
   "metadata": {},
   "source": [
    "⭐**На совещании было принято решение детальнее проработать вопрос списания денежных средств. Теперь, спишите деньги (у пользователей из Москвы за смс) с учетом тарифной сетки:**"
   ]
  },
  {
   "cell_type": "code",
   "execution_count": 283,
   "metadata": {},
   "outputs": [],
   "source": [
    "d = {'ВИП': 1,  'Все за 300': 2, 'Всё за 500': 3,  \n",
    "     'Всё за 800': 4, 'Промо': 7, 'Корпоративный': 0, 'Всё за 250 (архив)': 5}"
   ]
  },
  {
   "cell_type": "code",
   "execution_count": 351,
   "metadata": {},
   "outputs": [],
   "source": [
    "for key in d:\n",
    "    _df.loc[(_df['city'] == 'Moscow') & (_df['tarif'] == key), ['balance']] = _df['balance'] - _df['sms'] * d[key]"
   ]
  },
  {
   "cell_type": "markdown",
   "metadata": {},
   "source": [
    "⭐**Пользователь Girev Sergey написал заявление о том, что переехал из города Vladivostok в Kazan. Внесите изменения в датафрейм:**"
   ]
  },
  {
   "cell_type": "code",
   "execution_count": 368,
   "metadata": {},
   "outputs": [],
   "source": [
    "_df.loc[(_df['name'] == 'Sergey') & (_df['surname'] == 'Girev'), ['city']] = 'Kazan'"
   ]
  },
  {
   "cell_type": "markdown",
   "metadata": {},
   "source": [
    "⭐**Измените название колонки balance на client_balance:**"
   ]
  },
  {
   "cell_type": "code",
   "execution_count": 379,
   "metadata": {},
   "outputs": [],
   "source": [
    "_df.rename(columns = {'balance' : 'client_balance'}, inplace=True)"
   ]
  },
  {
   "cell_type": "markdown",
   "metadata": {},
   "source": [
    "⭐**Напишите название функции, которая выводит индекс минимального значения**"
   ]
  },
  {
   "cell_type": "code",
   "execution_count": 386,
   "metadata": {},
   "outputs": [
    {
     "data": {
      "text/plain": [
       "28"
      ]
     },
     "execution_count": 386,
     "metadata": {},
     "output_type": "execute_result"
    }
   ],
   "source": [
    "#pandas.Series.argmin - Return int position of the smallest value in the Series.\n",
    "_df['age'].argmin()"
   ]
  },
  {
   "cell_type": "code",
   "execution_count": 382,
   "metadata": {},
   "outputs": [
    {
     "data": {
      "text/plain": [
       "28"
      ]
     },
     "execution_count": 382,
     "metadata": {},
     "output_type": "execute_result"
    }
   ],
   "source": [
    "#pandas.DataFrame.idxmin - Return index of first occurrence of minimum over requested axis. - индекс 1-го вхождения мин.эл.\n",
    "_df['age'].idxmin()"
   ]
  },
  {
   "cell_type": "markdown",
   "metadata": {},
   "source": [
    "⭐**Пересчитайте баланс пользователей в доллары по курсу 1 доллар = 60 рублей. Результат запишите в колонку balance_usd (ответ округлите до двух знаков после запятой). Исходный баланс лежит в столбце balance:**"
   ]
  },
  {
   "cell_type": "code",
   "execution_count": 396,
   "metadata": {},
   "outputs": [],
   "source": [
    "_df['balance_usd'] = round(_df['balance'] / 60, 2)"
   ]
  },
  {
   "cell_type": "markdown",
   "metadata": {},
   "source": [
    "⭐**Высшее руководство компании в ячейке с балансом (в долларах) хотят видеть знак доллара $. Вам как самому ответственному и подготовленному специалисту доверили довести дело до конца! Добавьте, пожалуйста, знак доллара)**"
   ]
  },
  {
   "cell_type": "code",
   "execution_count": 410,
   "metadata": {},
   "outputs": [],
   "source": [
    "_df['balance_usd'] = _df['balance_usd'].astype('str') + ' $'"
   ]
  },
  {
   "cell_type": "markdown",
   "metadata": {},
   "source": [
    "⭐**Расcчитайте долю смс для каждого пользователя. Для этого определите сколько всего было отправлено СМС, а затем расcчитайте отношение отправленных смс клиента к общему количеству. Столбец назовите sms_volume. Оставьте TOP-3:**"
   ]
  },
  {
   "cell_type": "code",
   "execution_count": 414,
   "metadata": {},
   "outputs": [],
   "source": [
    "_df['sms_volume'] = _df['sms'] / _df['sms'].sum()"
   ]
  },
  {
   "cell_type": "code",
   "execution_count": 418,
   "metadata": {},
   "outputs": [
    {
     "data": {
      "text/html": [
       "<div>\n",
       "<style scoped>\n",
       "    .dataframe tbody tr th:only-of-type {\n",
       "        vertical-align: middle;\n",
       "    }\n",
       "\n",
       "    .dataframe tbody tr th {\n",
       "        vertical-align: top;\n",
       "    }\n",
       "\n",
       "    .dataframe thead th {\n",
       "        text-align: right;\n",
       "    }\n",
       "</style>\n",
       "<table border=\"1\" class=\"dataframe\">\n",
       "  <thead>\n",
       "    <tr style=\"text-align: right;\">\n",
       "      <th></th>\n",
       "      <th>surname</th>\n",
       "      <th>name</th>\n",
       "      <th>tarif</th>\n",
       "      <th>balance</th>\n",
       "      <th>age</th>\n",
       "      <th>sms</th>\n",
       "      <th>voice</th>\n",
       "      <th>city</th>\n",
       "      <th>phone</th>\n",
       "      <th>balance_usd</th>\n",
       "      <th>sms_volume</th>\n",
       "    </tr>\n",
       "  </thead>\n",
       "  <tbody>\n",
       "    <tr>\n",
       "      <th>3</th>\n",
       "      <td>Andreev</td>\n",
       "      <td>Sergey</td>\n",
       "      <td>Всё за 500</td>\n",
       "      <td>1981</td>\n",
       "      <td>75</td>\n",
       "      <td>98</td>\n",
       "      <td>5442</td>\n",
       "      <td>Kazan</td>\n",
       "      <td>Apple</td>\n",
       "      <td>33.02 $</td>\n",
       "      <td>0.063844</td>\n",
       "    </tr>\n",
       "    <tr>\n",
       "      <th>28</th>\n",
       "      <td>Vlasov</td>\n",
       "      <td>Andrey</td>\n",
       "      <td>Всё за 500</td>\n",
       "      <td>4725</td>\n",
       "      <td>26</td>\n",
       "      <td>93</td>\n",
       "      <td>9441</td>\n",
       "      <td>Vladivostok</td>\n",
       "      <td>Xiaomi</td>\n",
       "      <td>78.75 $</td>\n",
       "      <td>0.060586</td>\n",
       "    </tr>\n",
       "    <tr>\n",
       "      <th>7</th>\n",
       "      <td>Girev</td>\n",
       "      <td>Alex</td>\n",
       "      <td>Промо</td>\n",
       "      <td>4199</td>\n",
       "      <td>47</td>\n",
       "      <td>90</td>\n",
       "      <td>3925</td>\n",
       "      <td>Kazan</td>\n",
       "      <td>Apple</td>\n",
       "      <td>69.98 $</td>\n",
       "      <td>0.058632</td>\n",
       "    </tr>\n",
       "  </tbody>\n",
       "</table>\n",
       "</div>"
      ],
      "text/plain": [
       "    surname    name       tarif  balance  age  sms  voice         city  \\\n",
       "3   Andreev  Sergey  Всё за 500     1981   75   98   5442        Kazan   \n",
       "28   Vlasov  Andrey  Всё за 500     4725   26   93   9441  Vladivostok   \n",
       "7     Girev    Alex       Промо     4199   47   90   3925        Kazan   \n",
       "\n",
       "     phone balance_usd  sms_volume  \n",
       "3    Apple     33.02 $    0.063844  \n",
       "28  Xiaomi     78.75 $    0.060586  \n",
       "7    Apple     69.98 $    0.058632  "
      ]
     },
     "execution_count": 418,
     "metadata": {},
     "output_type": "execute_result"
    }
   ],
   "source": [
    "_df.sort_values('sms_volume', ascending=False).head(3)"
   ]
  },
  {
   "cell_type": "markdown",
   "metadata": {},
   "source": [
    "⭐**Cредний возраст клиентов из Казани выше чем во Владивостоке? Функция должна вернуть True - если да и False - если нет.**"
   ]
  },
  {
   "cell_type": "code",
   "execution_count": 436,
   "metadata": {},
   "outputs": [
    {
     "data": {
      "text/plain": [
       "True"
      ]
     },
     "execution_count": 436,
     "metadata": {},
     "output_type": "execute_result"
    }
   ],
   "source": [
    "_df[_df['city'] == 'Kazan']['age'].mean() > _df[_df['city'] == 'Vladivostok']['age'].mean()"
   ]
  },
  {
   "cell_type": "markdown",
   "metadata": {},
   "source": [
    "⭐**Создайте индекс для строк на основе столбцов surname и name. После создания индекса удалите столбцы surname и name:**"
   ]
  },
  {
   "cell_type": "code",
   "execution_count": 528,
   "metadata": {},
   "outputs": [],
   "source": [
    "_df.index = _df['surname'].str.upper() + '_' + _df['name'].str.upper()"
   ]
  },
  {
   "cell_type": "code",
   "execution_count": 529,
   "metadata": {},
   "outputs": [],
   "source": [
    "#_df = _df.reindex(columns = ['tarif', 'balance', 'age', 'sms', 'voice', 'city', 'phone'])\n",
    "_df = _df.drop(columns=['surname', 'name'])"
   ]
  },
  {
   "cell_type": "markdown",
   "metadata": {},
   "source": [
    "⭐**Являются ли лейблы строк уникальными (не повторяющимися)? Верните True - если уникальные и False - если есть дубли. Пример входящего датафрейма:**"
   ]
  },
  {
   "cell_type": "code",
   "execution_count": 538,
   "metadata": {},
   "outputs": [
    {
     "data": {
      "text/plain": [
       "False"
      ]
     },
     "execution_count": 538,
     "metadata": {},
     "output_type": "execute_result"
    }
   ],
   "source": [
    "_df.index.is_unique"
   ]
  }
 ],
 "metadata": {
  "kernelspec": {
   "display_name": "Python 3",
   "language": "python",
   "name": "python3"
  },
  "language_info": {
   "codemirror_mode": {
    "name": "ipython",
    "version": 3
   },
   "file_extension": ".py",
   "mimetype": "text/x-python",
   "name": "python",
   "nbconvert_exporter": "python",
   "pygments_lexer": "ipython3",
   "version": "3.8.5"
  }
 },
 "nbformat": 4,
 "nbformat_minor": 4
}
